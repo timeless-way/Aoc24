{
 "cells": [
  {
   "cell_type": "code",
   "execution_count": 1,
   "metadata": {},
   "outputs": [
    {
     "name": "stdout",
     "output_type": "stream",
     "text": [
      "/private/var/mobile/Containers/Shared/AppGroup/F82BEA26-21DA-4B80-8660-E4843E122113/File Provider Storage/Repositories/Aoc24\n",
      "\r"
     ]
    }
   ],
   "source": [
    "!pwd"
   ]
  },
  {
   "cell_type": "code",
   "execution_count": 2,
   "metadata": {},
   "outputs": [],
   "source": [
    "with open(\"Data/04a.txt\", \"r\") as input:\n",
    "    data = input.readlines()\n"
   ]
  },
  {
   "cell_type": "code",
   "execution_count": 3,
   "metadata": {},
   "outputs": [],
   "source": [
    "N = range(len(data))"
   ]
  },
  {
   "cell_type": "code",
   "execution_count": 4,
   "metadata": {},
   "outputs": [],
   "source": [
    "for i in N:\n",
    "    data[i] = data[i][:-1]\n"
   ]
  },
  {
   "cell_type": "code",
   "execution_count": 5,
   "metadata": {},
   "outputs": [],
   "source": [
    "def getchar(i,j):\n",
    "    if i in N and j in N:\n",
    "        return data[i][j]\n",
    "    return '*'\n"
   ]
  },
  {
   "cell_type": "code",
   "execution_count": 6,
   "metadata": {},
   "outputs": [],
   "source": [
    "def print_section(r, c):\n",
    "    rows = range(r,r+6)\n",
    "    cols = range(c,c+6)\n",
    "    for row in rows:\n",
    "        for col in cols:\n",
    "            print(getchar(row, col), ' ', end='')\n",
    "        print()\n"
   ]
  },
  {
   "cell_type": "code",
   "execution_count": 7,
   "metadata": {},
   "outputs": [
    {
     "name": "stdout",
     "output_type": "stream",
     "text": [
      "M  X  M  M  M  *  \n",
      "M  A  S  A  M  *  \n",
      "S  A  S  A  S  *  \n",
      "M  X  S  M  M  *  \n",
      "X  X  M  A  S  *  \n",
      "*  *  *  *  *  *  \n"
     ]
    }
   ],
   "source": [
    "print_section(135,135)"
   ]
  },
  {
   "cell_type": "code",
   "execution_count": 8,
   "metadata": {},
   "outputs": [
    {
     "data": {
      "text/plain": [
       "'X'"
      ]
     },
     "execution_count": 8,
     "metadata": {},
     "output_type": "execute_result"
    }
   ],
   "source": [
    "data[139][136]"
   ]
  },
  {
   "cell_type": "code",
   "execution_count": 9,
   "metadata": {},
   "outputs": [],
   "source": [
    "K = range(-1, 2)"
   ]
  },
  {
   "cell_type": "code",
   "execution_count": 10,
   "metadata": {},
   "outputs": [],
   "source": [
    "directions = [(i,j) for i in K for j in K if (i,j) != (0,0)]"
   ]
  },
  {
   "cell_type": "code",
   "execution_count": 11,
   "metadata": {},
   "outputs": [],
   "source": [
    "def get_from_direction(row, col, dr, dc):\n",
    "    res = ''\n",
    "    for i in range(4):\n",
    "        res += getchar(row + i*dr, col + i*dc)\n",
    "    return res"
   ]
  },
  {
   "cell_type": "code",
   "execution_count": 12,
   "metadata": {},
   "outputs": [
    {
     "data": {
      "text/plain": [
       "'AM**'"
      ]
     },
     "execution_count": 12,
     "metadata": {},
     "output_type": "execute_result"
    }
   ],
   "source": [
    "get_from_direction(*(137,138), *(1,1))"
   ]
  },
  {
   "cell_type": "code",
   "execution_count": 13,
   "metadata": {},
   "outputs": [
    {
     "data": {
      "text/plain": [
       "2"
      ]
     },
     "execution_count": 13,
     "metadata": {},
     "output_type": "execute_result"
    }
   ],
   "source": [
    "xmas_count = 0\n",
    "for d in directions:\n",
    "    w = get_from_direction(*(139,136), *d)\n",
    "    if w == \"XMAS\":\n",
    "        xmas_count += 1\n",
    "xmas_count"
   ]
  },
  {
   "cell_type": "code",
   "execution_count": 14,
   "metadata": {},
   "outputs": [],
   "source": [
    "def count_xmas(i, j):\n",
    "    if getchar(i, j) != 'X':\n",
    "        return 0\n",
    "    xmas_count = 0\n",
    "    for d in directions:\n",
    "        w = get_from_direction(i, j, *d)\n",
    "        if w == \"XMAS\":\n",
    "            xmas_count += 1\n",
    "    return xmas_count"
   ]
  },
  {
   "cell_type": "code",
   "execution_count": null,
   "metadata": {},
   "outputs": [],
   "source": [
    "def is_cross(tl, tr, bl, br):\n",
    "    tlbr = (tl == 'M' and br == 'S') or (tl == 'S' and br == 'M')\n",
    "    trbl = (tr == 'M' and bl == 'S') or (tr == 'S' and bl == 'M')\n",
    "    return tlbr and trbl"
   ]
  },
  {
   "cell_type": "code",
   "execution_count": null,
   "metadata": {},
   "outputs": [],
   "source": [
    "def count_crossmass(row, col):\n",
    "    if getchar(row, col) != 'A':\n",
    "        return 0\n",
    "    tl = getchar(row-1, col-1)\n",
    "    tr = getchar(row-1, col+1)\n",
    "    bl = getchar(row+1, col-1)\n",
    "    br = getchar(row+1, col+1)\n",
    "    if is_cross(tl, tr, bl, br):\n",
    "        return 1\n",
    "    else:\n",
    "        return 0"
   ]
  },
  {
   "cell_type": "code",
   "execution_count": 15,
   "metadata": {},
   "outputs": [
    {
     "data": {
      "text/plain": [
       "2685"
      ]
     },
     "execution_count": 15,
     "metadata": {},
     "output_type": "execute_result"
    }
   ],
   "source": [
    "total = 0\n",
    "for i in N:\n",
    "    for j in N:\n",
    "        total += count_crossma(i,j)\n",
    "total"
   ]
  },
  {
   "cell_type": "code",
   "execution_count": null,
   "metadata": {},
   "outputs": [],
   "source": []
  }
 ],
 "metadata": {
  "kernelspec": {
   "display_name": "Python 3 (ipykernel)",
   "language": "python",
   "name": "python3"
  },
  "language_info": {
   "codemirror_mode": {
    "name": "ipython",
    "version": 3
   },
   "file_extension": ".py",
   "mimetype": "text/x-python",
   "name": "python",
   "nbconvert_exporter": "python",
   "pygments_lexer": "ipython3",
   "version": "3.11.0"
  }
 },
 "nbformat": 4,
 "nbformat_minor": 4
}
