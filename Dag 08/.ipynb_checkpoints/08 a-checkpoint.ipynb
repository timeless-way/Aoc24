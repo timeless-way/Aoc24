{
 "cells": [
  {
   "cell_type": "code",
   "execution_count": 1,
   "id": "d4598d5f-8e67-4926-8853-5d35f103debb",
   "metadata": {},
   "outputs": [
    {
     "name": "stdout",
     "output_type": "stream",
     "text": [
      "/private/var/mobile/Containers/Shared/AppGroup/F82BEA26-21DA-4B80-8660-E4843E122113/File Provider Storage/Repositories/Aoc24/Dag 07\n",
      "\r"
     ]
    }
   ],
   "source": [
    "!pwd"
   ]
  },
  {
   "cell_type": "code",
   "execution_count": 2,
   "id": "b6d6529e-2536-4ae5-a257-37d6d1f57537",
   "metadata": {},
   "outputs": [],
   "source": [
    "from icecream import ic\n",
    "ic.disable()"
   ]
  },
  {
   "cell_type": "code",
   "execution_count": 3,
   "id": "cd5876f3-c679-4cc3-859e-cae60cb0026e",
   "metadata": {},
   "outputs": [
    {
     "data": {
      "text/plain": [
       "['85811978: 67 804 531 9 49 3 80',\n",
       " '73466405: 753 703 1 6 4 25 48 7 5',\n",
       " '156346954: 9 8 9 5 7 1 59 6 39 3 637',\n",
       " '72954: 72 5 19 393 38 5',\n",
       " '425160: 369 2 8 36 1 2 5 14 49 4']"
      ]
     },
     "execution_count": 3,
     "metadata": {},
     "output_type": "execute_result"
    }
   ],
   "source": [
    "with open('data.txt', 'r') as f:\n",
    "    data = f.readlines()\n",
    "N = range(len(data))\n",
    "for i in N:\n",
    "    data[i] = data[i][:-1]\n",
    "data[:5]"
   ]
  },
  {
   "cell_type": "code",
   "execution_count": 4,
   "id": "6a259d8f-3f3f-43d9-b7fe-dbf4cdddcbff",
   "metadata": {},
   "outputs": [],
   "source": [
    "def parse(s):\n",
    "    t1 = s.split(':')\n",
    "    r = int(t1[0])\n",
    "    t2 = t1[1].split()\n",
    "    a = list(map(int, t2))\n",
    "    return [r, a]"
   ]
  },
  {
   "cell_type": "code",
   "execution_count": 5,
   "id": "1a49248c-9697-4981-8181-4a512a86b91f",
   "metadata": {},
   "outputs": [],
   "source": [
    "input_list = list(map(parse, data))"
   ]
  },
  {
   "cell_type": "code",
   "execution_count": 6,
   "id": "e8ce6f2f-877c-4738-899a-4fc791bab8c9",
   "metadata": {},
   "outputs": [],
   "source": [
    "def merge(l0,l1):\n",
    "    if ic(l0) == []:\n",
    "        return l1\n",
    "    if ic(l1) == []:\n",
    "        return l0\n",
    "    else:\n",
    "        a = l0[0]\n",
    "        b = l1[0]\n",
    "        if a < b:\n",
    "            return [a] + merge(l0[1:], l1)\n",
    "        elif b < a:\n",
    "            return [b] + merge(l0, l1[1:])\n",
    "        else:\n",
    "            return [a] + merge(l0[1:], l1[1:])\n",
    "\n",
    "def merge_all(matrix):\n",
    "    if len(ic(matrix)) == 1:\n",
    "        return matrix[0]\n",
    "    merged = matrix[0]\n",
    "    for m in matrix[1:]:\n",
    "        merged = merge(merged, m)\n",
    "    return merged"
   ]
  },
  {
   "cell_type": "code",
   "execution_count": 7,
   "id": "de70f88d-7a9a-4eeb-971f-21c1747a6e72",
   "metadata": {},
   "outputs": [],
   "source": [
    "def evaluate(old, n, ub):\n",
    "    e = []\n",
    "    for k in old:\n",
    "        a = k + n\n",
    "        b = k * n\n",
    "        if a <= ub and a not in e:\n",
    "            e.append(a)\n",
    "        if b <= ub and b not in e:\n",
    "            e.append(b)\n",
    "    e.sort()\n",
    "    return e"
   ]
  },
  {
   "cell_type": "code",
   "execution_count": 8,
   "id": "43e23153-0d9b-4762-b26d-126608bcdb16",
   "metadata": {},
   "outputs": [],
   "source": [
    "def solve(problem):\n",
    "    result = problem[0]\n",
    "    values = problem[1]\n",
    "    generation = [values[0]]\n",
    "    arguments = values[1:]\n",
    "    for arg in arguments:\n",
    "        generation = evaluate(ic(generation), ic(arg), result)\n",
    "    return result in ic(generation)"
   ]
  },
  {
   "cell_type": "code",
   "execution_count": 9,
   "id": "d016924f-3e70-48b9-a6d7-33fcf10fd68b",
   "metadata": {},
   "outputs": [
    {
     "data": {
      "text/plain": [
       "True"
      ]
     },
     "execution_count": 9,
     "metadata": {},
     "output_type": "execute_result"
    }
   ],
   "source": [
    "solve(input_list[0])"
   ]
  },
  {
   "cell_type": "code",
   "execution_count": 13,
   "id": "09a18fad-cc33-49e3-8e05-deb16113a45a",
   "metadata": {},
   "outputs": [
    {
     "data": {
      "text/plain": [
       "(323, 12839601725877)"
      ]
     },
     "execution_count": 13,
     "metadata": {},
     "output_type": "execute_result"
    }
   ],
   "source": [
    "solution_count = 0\n",
    "sum = 0\n",
    "for l in input_list:\n",
    "    if solve(l):\n",
    "        solution_count += 1\n",
    "        sum += l[0]\n",
    "solution_count, sum"
   ]
  },
  {
   "cell_type": "code",
   "execution_count": null,
   "id": "61185fae-f0e0-43ab-b750-f6cb3a972cf3",
   "metadata": {},
   "outputs": [],
   "source": []
  }
 ],
 "metadata": {
  "kernelspec": {
   "display_name": "Python 3 (ipykernel)",
   "language": "python",
   "name": "python3"
  },
  "language_info": {
   "codemirror_mode": {
    "name": "ipython",
    "version": 3
   },
   "file_extension": ".py",
   "mimetype": "text/x-python",
   "name": "python",
   "nbconvert_exporter": "python",
   "pygments_lexer": "ipython3",
   "version": "3.11.0"
  }
 },
 "nbformat": 4,
 "nbformat_minor": 5
}
