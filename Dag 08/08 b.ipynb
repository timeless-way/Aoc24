{
 "cells": [
  {
   "cell_type": "code",
   "execution_count": 1,
   "id": "d4598d5f-8e67-4926-8853-5d35f103debb",
   "metadata": {},
   "outputs": [
    {
     "name": "stdout",
     "output_type": "stream",
     "text": [
      "/home/huub/software_projects/jupyter_projects/Aoc24/Dag 08\n"
     ]
    }
   ],
   "source": [
    "!pwd"
   ]
  },
  {
   "cell_type": "code",
   "execution_count": 2,
   "id": "b6d6529e-2536-4ae5-a257-37d6d1f57537",
   "metadata": {},
   "outputs": [],
   "source": [
    "from icecream import ic\n",
    "import numpy as np\n",
    "#ic.disable()"
   ]
  },
  {
   "cell_type": "code",
   "execution_count": 3,
   "id": "cd5876f3-c679-4cc3-859e-cae60cb0026e",
   "metadata": {
    "scrolled": true
   },
   "outputs": [],
   "source": [
    "with open('data.txt', 'r') as f:\n",
    "    data = f.readlines()\n",
    "N = range(len(data))\n",
    "antennas = [line[:-1] for line in data]\n",
    "\n",
    "node_map = [list(' '*50) for i in N]"
   ]
  },
  {
   "cell_type": "code",
   "execution_count": 4,
   "id": "37caa127-9eee-4376-9160-2c387033b878",
   "metadata": {},
   "outputs": [
    {
     "data": {
      "text/plain": [
       "142"
      ]
     },
     "execution_count": 4,
     "metadata": {},
     "output_type": "execute_result"
    }
   ],
   "source": [
    "symbols = []\n",
    "symbol_count = 0\n",
    "for i in N:\n",
    "    for j in N:\n",
    "        c = data[i][j]\n",
    "        if c != '.':\n",
    "            symbol_count += 1\n",
    "            if c not in symbols:\n",
    "                symbols.append(c)\n",
    "\n",
    "symbols.sort()\n",
    "symbol_count"
   ]
  },
  {
   "cell_type": "code",
   "execution_count": 5,
   "id": "9253a42f-7676-4374-ba0a-64380aa98c90",
   "metadata": {},
   "outputs": [],
   "source": [
    "positions = {c:[] for c in symbols}"
   ]
  },
  {
   "cell_type": "code",
   "execution_count": 6,
   "id": "5024c70d-6523-4375-af73-6ee650188ca8",
   "metadata": {},
   "outputs": [],
   "source": [
    "for i in N:\n",
    "    for j in N:\n",
    "        c = data[i][j]\n",
    "        if c != '.':\n",
    "            positions[c].append(np.array([i,j]))\n",
    "            "
   ]
  },
  {
   "cell_type": "code",
   "execution_count": 7,
   "id": "611ebb39-c9b7-4a6e-8298-cd8d5e93da69",
   "metadata": {},
   "outputs": [],
   "source": [
    "def antinodes(a, b):\n",
    "    y = 2*b - a\n",
    "    x = 2*a - b\n",
    "    return (x, y)\n",
    "\n",
    "def all_antinodes(a, b):\n",
    "    nodes = []\n",
    "    d = b - a\n",
    "    for k in range(-50, 51):\n",
    "        p = a + k*d\n",
    "        nodes.append(p)\n",
    "    return nodes"
   ]
  },
  {
   "cell_type": "code",
   "execution_count": 8,
   "id": "49c6da66-524f-4b7f-a7c1-956bde85d856",
   "metadata": {},
   "outputs": [],
   "source": [
    "def plot(p):\n",
    "    if p[0] in N and p[1] in N:\n",
    "        node_map[p[0]][p[1]] = '*'\n",
    "\n",
    "def count_antinodes():\n",
    "    count = 0\n",
    "    for i in N:\n",
    "        for j in N:\n",
    "            if node_map[i][j] == '*':\n",
    "                count += 1\n",
    "    return count"
   ]
  },
  {
   "cell_type": "code",
   "execution_count": 9,
   "id": "ba25e8af-80d7-4925-b1b0-41af52ccffa0",
   "metadata": {},
   "outputs": [],
   "source": [
    "def map_antinodes(symbol):\n",
    "    l = positions[symbol]\n",
    "    n = len(l)\n",
    "    for k in range(n):\n",
    "        for m in range(k+1, n):\n",
    "            p, q = antinodes(l[k], l[m])\n",
    "            plot(p)\n",
    "            plot(q)\n",
    "\n",
    "def map_all_antinodes(symbol):\n",
    "    l = positions[symbol]\n",
    "    n = len(l)\n",
    "    for k in range(n):\n",
    "        for m in range(k+1, n):\n",
    "            nodelist = all_antinodes(l[k], l[m])\n",
    "            for p in nodelist:\n",
    "                plot(p)\n"
   ]
  },
  {
   "cell_type": "code",
   "execution_count": 12,
   "id": "bd1fc525-b094-4b48-83b6-e0ad88f3c7b0",
   "metadata": {},
   "outputs": [
    {
     "data": {
      "text/plain": [
       "905"
      ]
     },
     "execution_count": 12,
     "metadata": {},
     "output_type": "execute_result"
    }
   ],
   "source": [
    "count_antinodes()"
   ]
  },
  {
   "cell_type": "code",
   "execution_count": 11,
   "id": "ca4aa9fa-174b-4fac-9eda-dfc9b8fc361c",
   "metadata": {},
   "outputs": [],
   "source": [
    "for s in symbols:\n",
    "    map_all_antinodes(s)"
   ]
  },
  {
   "cell_type": "code",
   "execution_count": null,
   "id": "1e2a2aa9-06fe-419c-92fb-d63bdd0c2995",
   "metadata": {},
   "outputs": [],
   "source": []
  }
 ],
 "metadata": {
  "kernelspec": {
   "display_name": "Python 3 (ipykernel)",
   "language": "python",
   "name": "python3"
  },
  "language_info": {
   "codemirror_mode": {
    "name": "ipython",
    "version": 3
   },
   "file_extension": ".py",
   "mimetype": "text/x-python",
   "name": "python",
   "nbconvert_exporter": "python",
   "pygments_lexer": "ipython3",
   "version": "3.12.1"
  }
 },
 "nbformat": 4,
 "nbformat_minor": 5
}
