{
 "cells": [
  {
   "cell_type": "code",
   "execution_count": 58,
   "metadata": {},
   "outputs": [
    {
     "name": "stdout",
     "output_type": "stream",
     "text": [
      "/private/var/mobile/Containers/Shared/AppGroup/F82BEA26-21DA-4B80-8660-E4843E122113/File Provider Storage/Repositories/Aoc24/Dag 13\n",
      "\r"
     ]
    }
   ],
   "source": [
    "!pwd"
   ]
  },
  {
   "cell_type": "code",
   "execution_count": 59,
   "metadata": {},
   "outputs": [],
   "source": [
    "import re, numpy as np"
   ]
  },
  {
   "cell_type": "code",
   "execution_count": 60,
   "metadata": {},
   "outputs": [
    {
     "data": {
      "text/plain": [
       "['Button A: X+85, Y+71\\n',\n",
       " ' Button B: X+21, Y+84\\n',\n",
       " ' Prize: X=9947, Y=13426\\n',\n",
       " ' \\n',\n",
       " ' Button A: X+20, Y+62\\n',\n",
       " ' Button B: X+62, Y+27\\n',\n",
       " ' Prize: X=6092, Y=7618\\n',\n",
       " ' \\n',\n",
       " ' Button A: X+64, Y+14\\n']"
      ]
     },
     "execution_count": 60,
     "metadata": {},
     "output_type": "execute_result"
    }
   ],
   "source": [
    "with open(\"data.txt\", \"r\") as input:\n",
    "    data_0 = input.readlines()\n",
    "\n",
    "data_1 = \\\n",
    "[\"Button A: X+94, Y+34\",\n",
    " \"Button B: X+22, Y+67\",\n",
    " \"Prize: X=8400, Y=5400\",\n",
    "\"\",\n",
    "\"Button A: X+26, Y+66\",\n",
    "\"Button B: X+67, Y+21\",\n",
    "\"Prize: X=12748, Y=12176\",\n",
    "\"\",\n",
    "\"Button A: X+17, Y+86\",\n",
    "\"Button B: X+84, Y+37\",\n",
    "\"Prize: X=7870, Y=6450\",\n",
    "\"\",\n",
    "\"Button A: X+69, Y+23\",\n",
    "\"Button B: X+27, Y+71\",\n",
    "\"Prize: X=18641, Y=10279\"]\n",
    "\n",
    "data = data_0\n",
    "len(data)\n",
    "data[0:9]"
   ]
  },
  {
   "cell_type": "code",
   "execution_count": 61,
   "metadata": {},
   "outputs": [],
   "source": [
    "numbers = '[+-]?[0-9]+'\n",
    "\n",
    "def get_numbers(s):\n",
    "    s0 = re.findall(numbers, s)\n",
    "    return list(map(int, s0))"
   ]
  },
  {
   "cell_type": "code",
   "execution_count": 62,
   "metadata": {},
   "outputs": [],
   "source": [
    "def process_input(data):\n",
    "    data.append(\"\")\n",
    "    R = int(len(data)/4)\n",
    "    K = [4*n for n in range(R)]\n",
    "    chunks = [data[k:k+3] for k in K]\n",
    "    a = []\n",
    "    for chunk in chunks:\n",
    "        b = []\n",
    "        for line in chunk:\n",
    "            b.append(get_numbers(line))\n",
    "        a.append(b)\n",
    "    return a"
   ]
  },
  {
   "cell_type": "code",
   "execution_count": 63,
   "metadata": {},
   "outputs": [
    {
     "data": {
      "text/plain": [
       "320"
      ]
     },
     "execution_count": 63,
     "metadata": {},
     "output_type": "execute_result"
    }
   ],
   "source": [
    "data = process_input(data)\n",
    "len(data)"
   ]
  },
  {
   "cell_type": "code",
   "execution_count": 64,
   "metadata": {},
   "outputs": [],
   "source": [
    "def is_integer_solution(s):\n",
    "    approx = np.round(s) - s\n",
    "    eps = 0.0001\n",
    "    return all(-eps < approx) and all(approx - s < eps)"
   ]
  },
  {
   "cell_type": "code",
   "execution_count": 70,
   "metadata": {},
   "outputs": [
    {
     "ename": "AttributeError",
     "evalue": "module 'numpy' has no attribute 'int128'",
     "output_type": "error",
     "traceback": [
      "\u001b[0;31m---------------------------------------------------------------------------\u001b[0m",
      "\u001b[0;31mAttributeError\u001b[0m                            Traceback (most recent call last)",
      "Cell \u001b[0;32mIn[70], line 3\u001b[0m\n\u001b[1;32m      1\u001b[0m total_cost \u001b[38;5;241m=\u001b[39m \u001b[38;5;241m0\u001b[39m\n\u001b[1;32m      2\u001b[0m \u001b[38;5;28;01mfor\u001b[39;00m i, entry \u001b[38;5;129;01min\u001b[39;00m \u001b[38;5;28menumerate\u001b[39m(data):\n\u001b[0;32m----> 3\u001b[0m     M \u001b[38;5;241m=\u001b[39m np\u001b[38;5;241m.\u001b[39marray([entry[\u001b[38;5;241m0\u001b[39m], entry[\u001b[38;5;241m1\u001b[39m]], dtype\u001b[38;5;241m=\u001b[39m\u001b[43mnp\u001b[49m\u001b[38;5;241;43m.\u001b[39;49m\u001b[43mint128\u001b[49m)\u001b[38;5;241m.\u001b[39mtranspose()\n\u001b[1;32m      4\u001b[0m     v \u001b[38;5;241m=\u001b[39m np\u001b[38;5;241m.\u001b[39marray(entry[\u001b[38;5;241m2\u001b[39m], dtype\u001b[38;5;241m=\u001b[39mnp\u001b[38;5;241m.\u001b[39mint128) \u001b[38;5;241m+\u001b[39m \u001b[38;5;241m10000000000000\u001b[39m\n\u001b[1;32m      5\u001b[0m     s \u001b[38;5;241m=\u001b[39m np\u001b[38;5;241m.\u001b[39mlinalg\u001b[38;5;241m.\u001b[39msolve(M, v)\n",
      "File \u001b[0;32m/private/var/containers/Bundle/Application/287CFF4A-1C58-49AE-87C7-EEA4C8C52609/Carnets-sci.app/Library/lib/python3.11/site-packages/numpy/__init__.py:328\u001b[0m, in \u001b[0;36m__getattr__\u001b[0;34m(attr)\u001b[0m\n\u001b[1;32m    325\u001b[0m     \u001b[38;5;124m\"\u001b[39m\u001b[38;5;124mRemoved in NumPy 1.25.0\u001b[39m\u001b[38;5;124m\"\u001b[39m\n\u001b[1;32m    326\u001b[0m     \u001b[38;5;28;01mraise\u001b[39;00m \u001b[38;5;167;01mRuntimeError\u001b[39;00m(\u001b[38;5;124m\"\u001b[39m\u001b[38;5;124mTester was removed in NumPy 1.25.\u001b[39m\u001b[38;5;124m\"\u001b[39m)\n\u001b[0;32m--> 328\u001b[0m \u001b[38;5;28;01mraise\u001b[39;00m \u001b[38;5;167;01mAttributeError\u001b[39;00m(\u001b[38;5;124m\"\u001b[39m\u001b[38;5;124mmodule \u001b[39m\u001b[38;5;132;01m{!r}\u001b[39;00m\u001b[38;5;124m has no attribute \u001b[39m\u001b[38;5;124m\"\u001b[39m\n\u001b[1;32m    329\u001b[0m                      \u001b[38;5;124m\"\u001b[39m\u001b[38;5;132;01m{!r}\u001b[39;00m\u001b[38;5;124m\"\u001b[39m\u001b[38;5;241m.\u001b[39mformat(\u001b[38;5;18m__name__\u001b[39m, attr))\n",
      "\u001b[0;31mAttributeError\u001b[0m: module 'numpy' has no attribute 'int128'"
     ]
    }
   ],
   "source": [
    "total_cost = 0\n",
    "for i, entry in enumerate(data):\n",
    "    M = np.array([entry[0], entry[1]], dtype=np.int).transpose()\n",
    "    v = np.array(entry[2], dtype=np.int) + 10000000000000\n",
    "    s = np.linalg.solve(M, v)\n",
    "    if is_integer_solution(s):\n",
    "        cost = np.dot(s, np.array([3,1]))\n",
    "    else:\n",
    "        cost = 0\n",
    "    print(i, s, cost)\n",
    "    total_cost += cost\n",
    "total_cost"
   ]
  },
  {
   "cell_type": "code",
   "execution_count": 66,
   "metadata": {},
   "outputs": [
    {
     "data": {
      "text/plain": [
       "True"
      ]
     },
     "execution_count": 66,
     "metadata": {},
     "output_type": "execute_result"
    }
   ],
   "source": [
    "x = np.array([3,4])\n",
    "np.all(1 < x) and np.all(x < 5)"
   ]
  },
  {
   "cell_type": "code",
   "execution_count": 67,
   "metadata": {},
   "outputs": [
    {
     "data": {
      "text/plain": [
       "[[36, 35], [15, 88], [3270, 8612]]"
      ]
     },
     "execution_count": 67,
     "metadata": {},
     "output_type": "execute_result"
    }
   ],
   "source": [
    "data[7]"
   ]
  },
  {
   "cell_type": "code",
   "execution_count": 68,
   "metadata": {},
   "outputs": [
    {
     "data": {
      "text/plain": [
       "(array([60., 74.]), array([0.00000000e+00, 1.42108547e-14]))"
      ]
     },
     "execution_count": 68,
     "metadata": {},
     "output_type": "execute_result"
    }
   ],
   "source": [
    "M = np.array([[36, 15], [35,88]])\n",
    "v = np.array([3270,8612])\n",
    "s = np.linalg.solve(M, v)\n",
    "s, np.round(s) - s"
   ]
  },
  {
   "cell_type": "code",
   "execution_count": 69,
   "metadata": {},
   "outputs": [
    {
     "data": {
      "text/plain": [
       "0.0"
      ]
     },
     "execution_count": 69,
     "metadata": {},
     "output_type": "execute_result"
    }
   ],
   "source": [
    "np.mod(74., 1)"
   ]
  },
  {
   "cell_type": "code",
   "execution_count": null,
   "metadata": {},
   "outputs": [],
   "source": []
  }
 ],
 "metadata": {
  "kernelspec": {
   "display_name": "Python 3 (ipykernel)",
   "language": "python",
   "name": "python3"
  },
  "language_info": {
   "codemirror_mode": {
    "name": "ipython",
    "version": 3
   },
   "file_extension": ".py",
   "mimetype": "text/x-python",
   "name": "python",
   "nbconvert_exporter": "python",
   "pygments_lexer": "ipython3",
   "version": "3.11.0"
  }
 },
 "nbformat": 4,
 "nbformat_minor": 4
}
