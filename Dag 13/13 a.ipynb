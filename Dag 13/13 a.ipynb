{
 "cells": [
  {
   "cell_type": "code",
   "execution_count": 45,
   "metadata": {},
   "outputs": [],
   "source": [
    "!pwd"
   ]
  },
  {
   "cell_type": "code",
   "execution_count": 46,
   "metadata": {},
   "outputs": [],
   "source": [
    "import re, numpy as np"
   ]
  },
  {
   "cell_type": "code",
   "execution_count": 47,
   "metadata": {},
   "outputs": [
    {
     "data": {
      "text/plain": [
       "['Button A: X+85, Y+71\\n',\n",
       " ' Button B: X+21, Y+84\\n',\n",
       " ' Prize: X=9947, Y=13426\\n',\n",
       " ' \\n',\n",
       " ' Button A: X+20, Y+62\\n',\n",
       " ' Button B: X+62, Y+27\\n',\n",
       " ' Prize: X=6092, Y=7618\\n',\n",
       " ' \\n',\n",
       " ' Button A: X+64, Y+14\\n']"
      ]
     },
     "execution_count": 47,
     "metadata": {},
     "output_type": "execute_result"
    }
   ],
   "source": [
    "with open(\"data.txt\", \"r\") as input:\n",
    "    data_0 = input.readlines()\n",
    "\n",
    "data_1 = \\\n",
    "[\"Button A: X+94, Y+34\",\n",
    " \"Button B: X+22, Y+67\",\n",
    " \"Prize: X=8400, Y=5400\",\n",
    "\"\",\n",
    "\"Button A: X+26, Y+66\",\n",
    "\"Button B: X+67, Y+21\",\n",
    "\"Prize: X=12748, Y=12176\",\n",
    "\"\",\n",
    "\"Button A: X+17, Y+86\",\n",
    "\"Button B: X+84, Y+37\",\n",
    "\"Prize: X=7870, Y=6450\",\n",
    "\"\",\n",
    "\"Button A: X+69, Y+23\",\n",
    "\"Button B: X+27, Y+71\",\n",
    "\"Prize: X=18641, Y=10279\"]\n",
    "\n",
    "data = data_0\n",
    "len(data)\n",
    "data[0:9]"
   ]
  },
  {
   "cell_type": "code",
   "execution_count": 48,
   "metadata": {},
   "outputs": [],
   "source": [
    "numbers = '[+-]?[0-9]+'\n",
    "\n",
    "def get_numbers(s):\n",
    "    s0 = re.findall(numbers, s)\n",
    "    return list(map(int, s0))"
   ]
  },
  {
   "cell_type": "code",
   "execution_count": 49,
   "metadata": {},
   "outputs": [],
   "source": [
    "def process_input(data):\n",
    "    data.append(\"\")\n",
    "    R = int(len(data)/4)\n",
    "    K = [4*n for n in range(R)]\n",
    "    chunks = [data[k:k+3] for k in K]\n",
    "    a = []\n",
    "    for chunk in chunks:\n",
    "        b = []\n",
    "        for line in chunk:\n",
    "            b.append(get_numbers(line))\n",
    "        a.append(b)\n",
    "    return a"
   ]
  },
  {
   "cell_type": "code",
   "execution_count": 50,
   "metadata": {},
   "outputs": [
    {
     "data": {
      "text/plain": [
       "320"
      ]
     },
     "execution_count": 50,
     "metadata": {},
     "output_type": "execute_result"
    }
   ],
   "source": [
    "data = process_input(data)\n",
    "len(data)"
   ]
  },
  {
   "cell_type": "code",
   "execution_count": 51,
   "metadata": {},
   "outputs": [],
   "source": [
    "def is_integer_solution(s):\n",
    "    approx = np.round(s) - s\n",
    "    eps = 0.0001\n",
    "    return all(-eps < approx) and all(approx < eps)"
   ]
  },
  {
   "cell_type": "code",
   "execution_count": 52,
   "metadata": {},
   "outputs": [
    {
     "data": {
      "text/plain": [
       "33427.0"
      ]
     },
     "execution_count": 52,
     "metadata": {},
     "output_type": "execute_result"
    }
   ],
   "source": [
    "total_cost = 0\n",
    "for i, entry in enumerate(data):\n",
    "    M = np.array([entry[0], entry[1]]).transpose()\n",
    "    v = np.array(entry[2])\n",
    "    s = np.linalg.solve(M, v)\n",
    "    if is_integer_solution(s):\n",
    "        cost = np.dot(s, np.array([3,1]))\n",
    "    else:\n",
    "        cost = 0\n",
    "    # print(i, s, cost)\n",
    "    total_cost += cost\n",
    "total_cost"
   ]
  },
  {
   "cell_type": "code",
   "execution_count": null,
   "metadata": {},
   "outputs": [],
   "source": []
  }
 ],
 "metadata": {
  "kernelspec": {
   "display_name": "Python 3 (ipykernel)",
   "language": "python",
   "name": "python3"
  },
  "language_info": {
   "codemirror_mode": {
    "name": "ipython",
    "version": 3
   },
   "file_extension": ".py",
   "mimetype": "text/x-python",
   "name": "python",
   "nbconvert_exporter": "python",
   "pygments_lexer": "ipython3",
   "version": "3.11.0"
  }
 },
 "nbformat": 4,
 "nbformat_minor": 4
}
