{
 "cells": [
  {
   "cell_type": "code",
   "execution_count": 33,
   "metadata": {},
   "outputs": [
    {
     "name": "stdout",
     "output_type": "stream",
     "text": [
      "/private/var/mobile/Containers/Shared/AppGroup/F82BEA26-21DA-4B80-8660-E4843E122113/File Provider Storage/Repositories/Aoc24/Dag 13\n",
      "\r"
     ]
    }
   ],
   "source": [
    "!pwd"
   ]
  },
  {
   "cell_type": "code",
   "execution_count": 34,
   "metadata": {},
   "outputs": [],
   "source": [
    "import re, numpy as np"
   ]
  },
  {
   "cell_type": "code",
   "execution_count": 35,
   "metadata": {},
   "outputs": [
    {
     "data": {
      "text/plain": [
       "['Button A: X+85, Y+71\\n',\n",
       " ' Button B: X+21, Y+84\\n',\n",
       " ' Prize: X=9947, Y=13426\\n',\n",
       " ' \\n',\n",
       " ' Button A: X+20, Y+62\\n',\n",
       " ' Button B: X+62, Y+27\\n',\n",
       " ' Prize: X=6092, Y=7618\\n',\n",
       " ' \\n',\n",
       " ' Button A: X+64, Y+14\\n']"
      ]
     },
     "execution_count": 35,
     "metadata": {},
     "output_type": "execute_result"
    }
   ],
   "source": [
    "with open(\"data.txt\", \"r\") as input:\n",
    "    data_0 = input.readlines()\n",
    "\n",
    "data_1 = \\\n",
    "[\"Button A: X+94, Y+34\",\n",
    " \"Button B: X+22, Y+67\",\n",
    " \"Prize: X=8400, Y=5400\",\n",
    "\"\",\n",
    "\"Button A: X+26, Y+66\",\n",
    "\"Button B: X+67, Y+21\",\n",
    "\"Prize: X=12748, Y=12176\",\n",
    "\"\",\n",
    "\"Button A: X+17, Y+86\",\n",
    "\"Button B: X+84, Y+37\",\n",
    "\"Prize: X=7870, Y=6450\",\n",
    "\"\",\n",
    "\"Button A: X+69, Y+23\",\n",
    "\"Button B: X+27, Y+71\",\n",
    "\"Prize: X=18641, Y=10279\"]\n",
    "\n",
    "data = data_0\n",
    "len(data)\n",
    "data[0:9]"
   ]
  },
  {
   "cell_type": "code",
   "execution_count": 36,
   "metadata": {},
   "outputs": [],
   "source": [
    "numbers = '[+-]?[0-9]+'\n",
    "\n",
    "def get_numbers(s):\n",
    "    s0 = re.findall(numbers, s)\n",
    "    return list(map(int, s0))"
   ]
  },
  {
   "cell_type": "code",
   "execution_count": 37,
   "metadata": {},
   "outputs": [],
   "source": [
    "def process_input(data):\n",
    "    data.append(\"\")\n",
    "    R = int(len(data)/4)\n",
    "    K = [4*n for n in range(R)]\n",
    "    chunks = [data[k:k+3] for k in K]\n",
    "    a = []\n",
    "    for chunk in chunks:\n",
    "        b = []\n",
    "        for line in chunk:\n",
    "            b.append(get_numbers(line))\n",
    "        a.append(b)\n",
    "    return a"
   ]
  },
  {
   "cell_type": "code",
   "execution_count": 38,
   "metadata": {},
   "outputs": [
    {
     "data": {
      "text/plain": [
       "320"
      ]
     },
     "execution_count": 38,
     "metadata": {},
     "output_type": "execute_result"
    }
   ],
   "source": [
    "data = process_input(data)\n",
    "len(data)"
   ]
  },
  {
   "cell_type": "code",
   "execution_count": 39,
   "metadata": {},
   "outputs": [],
   "source": [
    "def is_integer_solution(s):\n",
    "    approx = np.round(s) - s\n",
    "    eps = 0.0001\n",
    "    return all(-eps < approx) and all(rounded - s < eps)"
   ]
  },
  {
   "cell_type": "code",
   "execution_count": 40,
   "metadata": {},
   "outputs": [
    {
     "name": "stdout",
     "output_type": "stream",
     "text": [
      "7 [[36 15]\n",
      " [35 88]] [3270 8612] [60. 74.] True\n"
     ]
    },
    {
     "data": {
      "text/plain": [
       "33427.0"
      ]
     },
     "execution_count": 40,
     "metadata": {},
     "output_type": "execute_result"
    }
   ],
   "source": [
    "total_cost = 0\n",
    "for i, entry in enumerate(data):\n",
    "    M = np.array([entry[0], entry[1]]).transpose()\n",
    "    v = np.array(entry[2])\n",
    "    s = np.linalg.solve(M, v)\n",
    "    if is_integer_solution(s):\n",
    "        cost = np.dot(s, np.array([3,1]))\n",
    "    else:\n",
    "        cost = 0\n",
    "    # print(i, s, cost)\n",
    "    total_cost += cost\n",
    "total_cost"
   ]
  },
  {
   "cell_type": "code",
   "execution_count": 41,
   "metadata": {},
   "outputs": [
    {
     "data": {
      "text/plain": [
       "True"
      ]
     },
     "execution_count": 41,
     "metadata": {},
     "output_type": "execute_result"
    }
   ],
   "source": [
    "x = np.array([3,4])\n",
    "np.all(1 < x) and np.all(x < 5)"
   ]
  },
  {
   "cell_type": "code",
   "execution_count": 42,
   "metadata": {},
   "outputs": [
    {
     "data": {
      "text/plain": [
       "[[36, 35], [15, 88], [3270, 8612]]"
      ]
     },
     "execution_count": 42,
     "metadata": {},
     "output_type": "execute_result"
    }
   ],
   "source": [
    "data[7]"
   ]
  },
  {
   "cell_type": "code",
   "execution_count": 43,
   "metadata": {},
   "outputs": [
    {
     "data": {
      "text/plain": [
       "(array([60., 74.]), array([0.00000000e+00, 1.42108547e-14]))"
      ]
     },
     "execution_count": 43,
     "metadata": {},
     "output_type": "execute_result"
    }
   ],
   "source": [
    "M = np.array([[36, 15], [35,88]])\n",
    "v = np.array([3270,8612])\n",
    "s = np.linalg.solve(M, v)\n",
    "s, np.round(s) - s"
   ]
  },
  {
   "cell_type": "code",
   "execution_count": 44,
   "metadata": {},
   "outputs": [
    {
     "data": {
      "text/plain": [
       "0.0"
      ]
     },
     "execution_count": 44,
     "metadata": {},
     "output_type": "execute_result"
    }
   ],
   "source": [
    "np.mod(74., 1)"
   ]
  },
  {
   "cell_type": "code",
   "execution_count": null,
   "metadata": {},
   "outputs": [],
   "source": []
  }
 ],
 "metadata": {
  "kernelspec": {
   "display_name": "Python 3 (ipykernel)",
   "language": "python",
   "name": "python3"
  },
  "language_info": {
   "codemirror_mode": {
    "name": "ipython",
    "version": 3
   },
   "file_extension": ".py",
   "mimetype": "text/x-python",
   "name": "python",
   "nbconvert_exporter": "python",
   "pygments_lexer": "ipython3",
   "version": "3.11.0"
  }
 },
 "nbformat": 4,
 "nbformat_minor": 4
}
