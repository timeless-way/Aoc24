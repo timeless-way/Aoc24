{
 "cells": [
  {
   "cell_type": "code",
   "execution_count": 10,
   "metadata": {},
   "outputs": [
    {
     "name": "stdout",
     "output_type": "stream",
     "text": [
      "/private/var/mobile/Containers/Shared/AppGroup/F82BEA26-21DA-4B80-8660-E4843E122113/File Provider Storage/Repositories/Aoc24/Dag 12\n",
      "\r"
     ]
    }
   ],
   "source": [
    "!pwd"
   ]
  },
  {
   "cell_type": "code",
   "execution_count": 11,
   "metadata": {},
   "outputs": [],
   "source": [
    "import numpy as np"
   ]
  },
  {
   "cell_type": "code",
   "execution_count": 12,
   "metadata": {},
   "outputs": [
    {
     "data": {
      "text/plain": [
       "'VVVVVVVVVVCCCCCCCCDLLLLLLLLLLLLSSSSFFFFFFFFFFFFFHHHHHHHHHHHHHLLLLLLLLLLLMLLLPPPPPZZZZZZGGGGGGNXXNNNXXFFFFFFFVVCCCCCCCCYCCYYYYYYYYYYYYYYYCCCC'"
      ]
     },
     "execution_count": 12,
     "metadata": {},
     "output_type": "execute_result"
    }
   ],
   "source": [
    "with open(\"data.txt\", \"r\") as input:\n",
    "    data_0 = input.readlines()\n",
    "data_0 = [line[:-1] for line in data_0]\n",
    "\n",
    "data_1 = \\\n",
    "[\"AAAAA\",\n",
    " \"AAAAA\",\n",
    " \"AAAAA\",\n",
    " \"AAAAA\",\n",
    " \"BBABB\"]\n",
    "\n",
    "data_2 = \\\n",
    "[\"AAAAB\",\n",
    " \"AAAAB\",\n",
    " \"AAAAB\",\n",
    " \"AAAAB\",\n",
    " \"AAAAB\"]\n",
    "\n",
    "data_3 = \\\n",
    "[\"AAAA\",\n",
    " \"BBCD\",\n",
    " \"BBCC\",\n",
    " \"EEEC\"]\n",
    "\n",
    "data_4 = \\\n",
    "[\"OOOOO\",\n",
    " \"OXOXO\",\n",
    " \"OOOOO\",\n",
    " \"OXOXO\",\n",
    " \"OOOOO\"]\n",
    "\n",
    "data_5 = \\\n",
    "[\"RRRRIICCFF\",\n",
    " \"RRRRIICCCF\",\n",
    " \"VVRRRCCFFF\",\n",
    " \"VVRCCCJFFF\",\n",
    " \"VVVVCJJCFE\",\n",
    " \"VVIVCCJJEE\",\n",
    " \"VVIIICJJEE\",\n",
    " \"MIIIIIJJEE\",\n",
    " \"MIIISIJEEE\",\n",
    " \"MMMISSJEEE\"]\n",
    "\n",
    "data = data_0\n",
    "data[1]"
   ]
  },
  {
   "cell_type": "code",
   "execution_count": 13,
   "metadata": {},
   "outputs": [],
   "source": [
    "directions = [np.array([0,1]), np.array([1,0]), np.array([0,-1]), np.array([-1,0])]"
   ]
  },
  {
   "cell_type": "code",
   "execution_count": 14,
   "metadata": {},
   "outputs": [],
   "source": [
    "def get_plot(i, j):\n",
    "    if i in R and j in R:\n",
    "        return garden[i,j]\n",
    "    return None"
   ]
  },
  {
   "cell_type": "code",
   "execution_count": 15,
   "metadata": {},
   "outputs": [],
   "source": [
    "class Plot:\n",
    "    def __init__(self, type, i, j):\n",
    "        self.type = type\n",
    "        self.location = np.array([i,j])\n",
    "        self.parent = self\n",
    "\n",
    "    def is_root(self):\n",
    "        return self.parent == self\n",
    "\n",
    "    def root(self):\n",
    "        p = self\n",
    "        while not p.is_root():\n",
    "            p.parent = p.parent.parent\n",
    "            p = p.parent\n",
    "        return p\n",
    "\n",
    "    def neighbours(self):\n",
    "        return [get_plot(*(self.location + d)) for d in directions]\n",
    "\n",
    "    def fence_count(self):\n",
    "        nb = self.neighbours()\n",
    "        friends = [find(self, n) for n in nb]\n",
    "        return len([f for f in friends if not f])\n",
    "\n",
    "    def __repr__(self):\n",
    "        r = ', *' if self.is_root() else ''\n",
    "        return f'<{self.type}, {self.location}{r}>'"
   ]
  },
  {
   "cell_type": "code",
   "execution_count": 16,
   "metadata": {},
   "outputs": [
    {
     "data": {
      "text/plain": [
       "(140, 140)"
      ]
     },
     "execution_count": 16,
     "metadata": {},
     "output_type": "execute_result"
    }
   ],
   "source": [
    "N = len(data)\n",
    "R = range(N)\n",
    "r = [[None]*N]*N\n",
    "garden = np.array(r)\n",
    "garden.shape"
   ]
  },
  {
   "cell_type": "code",
   "execution_count": 17,
   "metadata": {},
   "outputs": [
    {
     "data": {
      "text/plain": [
       "'V'"
      ]
     },
     "execution_count": 17,
     "metadata": {},
     "output_type": "execute_result"
    }
   ],
   "source": [
    "for i in R:\n",
    "    for j in R:\n",
    "        garden[i,j] = Plot(data[i][j], i, j)\n",
    "garden[0,0].type"
   ]
  },
  {
   "cell_type": "code",
   "execution_count": 18,
   "metadata": {},
   "outputs": [],
   "source": [
    "def find(plot_0, plot_1):\n",
    "    if plot_0 and plot_1:\n",
    "        return plot_0.root() == plot_1.root()\n",
    "    return False\n",
    "\n",
    "def union(plot_0, plot_1):\n",
    "    if plot_0.type == plot_1.type:\n",
    "        r0 = plot_0.root()\n",
    "        r1 = plot_1.root()\n",
    "        r1.parent = r0"
   ]
  },
  {
   "cell_type": "code",
   "execution_count": 19,
   "metadata": {},
   "outputs": [],
   "source": [
    "def create_regions(area):\n",
    "    n = len(garden)\n",
    "    R = range(n-1)\n",
    "    for i in R:\n",
    "        for j in R:\n",
    "            p = garden[i,j]\n",
    "            p_right = garden[i, j+1]\n",
    "            p_down = garden[i+1, j]\n",
    "            union(p, p_right)\n",
    "            union(p, p_down)\n",
    "    for j in R: # bottom row\n",
    "        p = garden[n-1, j]\n",
    "        p_right = garden[n-1, j+1]\n",
    "        union(p, p_right)\n",
    "    for i in R: # rightmost column\n",
    "        p = garden[i, n-1]\n",
    "        p_down = garden[i+1, n-1]\n",
    "        union(p, p_down)"
   ]
  },
  {
   "cell_type": "code",
   "execution_count": 20,
   "metadata": {},
   "outputs": [],
   "source": [
    "create_regions(garden)"
   ]
  },
  {
   "cell_type": "code",
   "execution_count": 21,
   "metadata": {},
   "outputs": [],
   "source": [
    "def get_roots(garden):\n",
    "    root_list = []\n",
    "    R = range(len(garden))\n",
    "    for i in R:\n",
    "        for j in R:\n",
    "            p = garden[i,j]\n",
    "            if p.is_root():\n",
    "                root_list.append(p)\n",
    "    return root_list"
   ]
  },
  {
   "cell_type": "code",
   "execution_count": 22,
   "metadata": {},
   "outputs": [
    {
     "data": {
      "text/plain": [
       "642"
      ]
     },
     "execution_count": 22,
     "metadata": {},
     "output_type": "execute_result"
    }
   ],
   "source": [
    "roots = get_roots(garden)\n",
    "len(roots)"
   ]
  },
  {
   "cell_type": "code",
   "execution_count": 23,
   "metadata": {},
   "outputs": [],
   "source": [
    "def get_region(garden, root):\n",
    "    l = []\n",
    "    for i in R:\n",
    "        for j in R:\n",
    "            if garden[i,j].root() == root:\n",
    "                l.append(garden[i,j])\n",
    "    return l"
   ]
  },
  {
   "cell_type": "code",
   "execution_count": 24,
   "metadata": {},
   "outputs": [],
   "source": [
    "regions = [get_region(garden, r) for r in roots]"
   ]
  },
  {
   "cell_type": "code",
   "execution_count": 25,
   "metadata": {},
   "outputs": [],
   "source": [
    "def area(region):\n",
    "    return len(region)\n",
    "\n",
    "def fences(region):\n",
    "    return sum([plot.fence_count() for plot in region])\n",
    "\n",
    "def price(region):\n",
    "    return area(region) * fences(region)"
   ]
  },
  {
   "cell_type": "code",
   "execution_count": 26,
   "metadata": {},
   "outputs": [
    {
     "data": {
      "text/plain": [
       "1421958"
      ]
     },
     "execution_count": 26,
     "metadata": {},
     "output_type": "execute_result"
    }
   ],
   "source": [
    "sum([price(region) for region in regions])"
   ]
  },
  {
   "cell_type": "code",
   "execution_count": null,
   "metadata": {},
   "outputs": [],
   "source": []
  }
 ],
 "metadata": {
  "kernelspec": {
   "display_name": "Python 3 (ipykernel)",
   "language": "python",
   "name": "python3"
  },
  "language_info": {
   "codemirror_mode": {
    "name": "ipython",
    "version": 3
   },
   "file_extension": ".py",
   "mimetype": "text/x-python",
   "name": "python",
   "nbconvert_exporter": "python",
   "pygments_lexer": "ipython3",
   "version": "3.11.0"
  }
 },
 "nbformat": 4,
 "nbformat_minor": 4
}
