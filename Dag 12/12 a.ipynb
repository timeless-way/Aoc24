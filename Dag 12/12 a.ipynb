{
 "cells": [
  {
   "cell_type": "code",
   "execution_count": 1,
   "metadata": {},
   "outputs": [
    {
     "name": "stdout",
     "output_type": "stream",
     "text": [
      "/private/var/mobile/Containers/Shared/AppGroup/F82BEA26-21DA-4B80-8660-E4843E122113/File Provider Storage/Repositories/Aoc24/Dag 12\n",
      "\r"
     ]
    }
   ],
   "source": [
    "!pwd"
   ]
  },
  {
   "cell_type": "code",
   "execution_count": 2,
   "metadata": {},
   "outputs": [],
   "source": [
    "import numpy as np"
   ]
  },
  {
   "cell_type": "code",
   "execution_count": 3,
   "metadata": {},
   "outputs": [
    {
     "data": {
      "text/plain": [
       "(5, 5)"
      ]
     },
     "execution_count": 3,
     "metadata": {},
     "output_type": "execute_result"
    }
   ],
   "source": [
    "with open(\"data.txt\", \"r\") as input:\n",
    "    data_0 = input.readlines()\n",
    "data_0 = [line[:-1] for line in data_0]\n",
    "\n",
    "data_1 = \\\n",
    "[\"AAAAA\",\n",
    " \"AAAAA\",\n",
    " \"AAAAA\",\n",
    " \"AAAAA\",\n",
    " \"BBABB\"]\n",
    "\n",
    "data_2 = \\\n",
    "[\"AAAAB\",\n",
    " \"AAAAB\",\n",
    " \"AAAAB\",\n",
    " \"AAAAB\",\n",
    " \"AAAAB\"]\n",
    "\n",
    "data = data_2\n",
    "len(data), len(data[0])   "
   ]
  },
  {
   "cell_type": "code",
   "execution_count": 4,
   "metadata": {},
   "outputs": [],
   "source": [
    "class Plot:\n",
    "    def __init__(self, type, i, j):\n",
    "        self.type = type\n",
    "        self.location = np.array([i,j])\n",
    "        self.parent = self\n",
    "\n",
    "    def is_root(self):\n",
    "        return self.parent == self\n",
    "\n",
    "    def root(self):\n",
    "        p = self\n",
    "        while not p.is_root():\n",
    "            p.parent = p.parent.parent\n",
    "            p = p.parent\n",
    "        return p\n",
    "\n",
    "    def __repr__(self):\n",
    "        r = '*' if self.is_root() else ' '\n",
    "        return f'<{self.type}, {self.location}, {r}>'"
   ]
  },
  {
   "cell_type": "code",
   "execution_count": 5,
   "metadata": {},
   "outputs": [
    {
     "data": {
      "text/plain": [
       "(5, 5)"
      ]
     },
     "execution_count": 5,
     "metadata": {},
     "output_type": "execute_result"
    }
   ],
   "source": [
    "N = len(data)\n",
    "R = range(N)\n",
    "r = [[None]*N]*N\n",
    "area = np.array(r)\n",
    "area.shape"
   ]
  },
  {
   "cell_type": "code",
   "execution_count": 6,
   "metadata": {},
   "outputs": [
    {
     "data": {
      "text/plain": [
       "'A'"
      ]
     },
     "execution_count": 6,
     "metadata": {},
     "output_type": "execute_result"
    }
   ],
   "source": [
    "for i in R:\n",
    "    for j in R:\n",
    "        area[i,j] = Plot(data[i][j], i, j)\n",
    "area[0,0].type"
   ]
  },
  {
   "cell_type": "code",
   "execution_count": 7,
   "metadata": {},
   "outputs": [],
   "source": [
    "def get_plot(i, j):\n",
    "    if i in R and j in R:\n",
    "        return area[i,j]\n",
    "    return None"
   ]
  },
  {
   "cell_type": "code",
   "execution_count": 8,
   "metadata": {},
   "outputs": [],
   "source": [
    "def find(plot_0, plot_1):\n",
    "    r0 = plot_0.root()\n",
    "    r1 = plot_1.root()\n",
    "    return r0 == r1\n",
    "\n",
    "def union(plot_0, plot_1):\n",
    "    if plot_0.type == plot_1.type:\n",
    "        r0 = plot_0.root()\n",
    "        r1 = plot_1.root()\n",
    "        r1.parent = r0\n"
   ]
  },
  {
   "cell_type": "code",
   "execution_count": 9,
   "metadata": {},
   "outputs": [],
   "source": [
    "def create_regions(area):\n",
    "    n = len(area)\n",
    "    R = range(n-1)\n",
    "    for i in R:\n",
    "        for j in R:\n",
    "            p = area[i,j]\n",
    "            p_right = area[i, j+1]\n",
    "            p_down = area[i+1, j]\n",
    "            union(p, p_right)\n",
    "            union(p, p_down)\n",
    "    for j in R: # bottom row\n",
    "        p = area[n-1, j]\n",
    "        p_right = area[n-1, j+1]\n",
    "        union(p, p_right)\n",
    "    for i in R: # rightmos column\n",
    "        p = area[i, n-1]\n",
    "        p_down = area[i+1, n-1]\n",
    "        union(p, p_down)"
   ]
  },
  {
   "cell_type": "code",
   "execution_count": 10,
   "metadata": {},
   "outputs": [],
   "source": [
    "create_regions(area)"
   ]
  },
  {
   "cell_type": "code",
   "execution_count": 11,
   "metadata": {},
   "outputs": [],
   "source": [
    "def get_roots(area):\n",
    "    root_list = []\n",
    "    R = range(len(area))\n",
    "    for i in R:\n",
    "        for j in R:\n",
    "            p = area[i,j]\n",
    "            if p.is_root():\n",
    "                root_list.append(p)\n",
    "    return root_list"
   ]
  },
  {
   "cell_type": "code",
   "execution_count": 12,
   "metadata": {},
   "outputs": [
    {
     "data": {
      "text/plain": [
       "2"
      ]
     },
     "execution_count": 12,
     "metadata": {},
     "output_type": "execute_result"
    }
   ],
   "source": [
    "roots = get_roots(area)\n",
    "len(roots)"
   ]
  },
  {
   "cell_type": "code",
   "execution_count": 13,
   "metadata": {},
   "outputs": [],
   "source": [
    "def get_region(area, root):\n",
    "    l = []\n",
    "    for i in R:\n",
    "        for j in R:\n",
    "            if area[i,j].root() == root:\n",
    "                l.append(area[i,j])\n",
    "    return l"
   ]
  },
  {
   "cell_type": "code",
   "execution_count": 14,
   "metadata": {},
   "outputs": [],
   "source": [
    "regions = [get_region(area, r) for r in roots]"
   ]
  },
  {
   "cell_type": "code",
   "execution_count": 15,
   "metadata": {},
   "outputs": [],
   "source": [
    "x = list(map(len, regions))"
   ]
  },
  {
   "cell_type": "code",
   "execution_count": 16,
   "metadata": {},
   "outputs": [
    {
     "data": {
      "text/plain": [
       "2"
      ]
     },
     "execution_count": 16,
     "metadata": {},
     "output_type": "execute_result"
    }
   ],
   "source": [
    "len(x)"
   ]
  },
  {
   "cell_type": "code",
   "execution_count": 17,
   "metadata": {},
   "outputs": [
    {
     "data": {
      "text/plain": [
       "25"
      ]
     },
     "execution_count": 17,
     "metadata": {},
     "output_type": "execute_result"
    }
   ],
   "source": [
    "sum(x)"
   ]
  },
  {
   "cell_type": "code",
   "execution_count": 18,
   "metadata": {},
   "outputs": [
    {
     "data": {
      "text/plain": [
       "0"
      ]
     },
     "execution_count": 18,
     "metadata": {},
     "output_type": "execute_result"
    }
   ],
   "source": [
    "shorties = [r for r in regions if len(r) == 1]\n",
    "len(shorties)"
   ]
  },
  {
   "cell_type": "code",
   "execution_count": null,
   "metadata": {},
   "outputs": [],
   "source": [
    "regions\n"
   ]
  }
 ],
 "metadata": {
  "kernelspec": {
   "display_name": "Python 3 (ipykernel)",
   "language": "python",
   "name": "python3"
  },
  "language_info": {
   "codemirror_mode": {
    "name": "ipython",
    "version": 3
   },
   "file_extension": ".py",
   "mimetype": "text/x-python",
   "name": "python",
   "nbconvert_exporter": "python",
   "pygments_lexer": "ipython3",
   "version": "3.11.0"
  }
 },
 "nbformat": 4,
 "nbformat_minor": 4
}
