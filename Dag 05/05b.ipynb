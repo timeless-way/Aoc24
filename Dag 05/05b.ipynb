{
 "cells": [
  {
   "cell_type": "code",
   "execution_count": 1,
   "id": "d4598d5f-8e67-4926-8853-5d35f103debb",
   "metadata": {},
   "outputs": [
    {
     "name": "stdout",
     "output_type": "stream",
     "text": [
      "/private/var/mobile/Containers/Shared/AppGroup/F82BEA26-21DA-4B80-8660-E4843E122113/File Provider Storage/Repositories/Aoc24/Dag 05\n",
      "\r"
     ]
    }
   ],
   "source": [
    "!pwd"
   ]
  },
  {
   "cell_type": "code",
   "execution_count": 2,
   "id": "cd5876f3-c679-4cc3-859e-cae60cb0026e",
   "metadata": {},
   "outputs": [],
   "source": [
    "with open('05a.txt', 'r') as f:\n",
    "    data = f.readlines()\n",
    "N = range(len(data))\n",
    "for i in N:\n",
    "    data[i] = data[i][:-1]"
   ]
  },
  {
   "cell_type": "code",
   "execution_count": 3,
   "id": "d3a828ac-6ed8-4401-990d-af57d19a9573",
   "metadata": {},
   "outputs": [],
   "source": [
    "def is_rule(s):\n",
    "    return '|' in s\n",
    "\n",
    "def create_rule(s):\n",
    "    return (int(s[:2]), int(s[3:]))\n",
    "\n",
    "def is_update(s):\n",
    "    return ',' in s\n",
    "\n",
    "def create_update(s):\n",
    "    upd = s.split(',')\n",
    "    return list(map(int, upd))\n"
   ]
  },
  {
   "cell_type": "code",
   "execution_count": 4,
   "id": "a70eb3f1-1e66-4b73-a6d8-4a8c9b27fc03",
   "metadata": {},
   "outputs": [
    {
     "data": {
      "text/plain": [
       "(1176, 210)"
      ]
     },
     "execution_count": 4,
     "metadata": {},
     "output_type": "execute_result"
    }
   ],
   "source": [
    "rules = []\n",
    "updates = []\n",
    "for d in data:\n",
    "    if is_rule(d):\n",
    "        rules.append(create_rule(d))\n",
    "    elif is_update(d):\n",
    "        updates.append(create_update(d))\n",
    "len(rules), len(updates)"
   ]
  },
  {
   "cell_type": "code",
   "execution_count": 5,
   "id": "1b5b55b8-4ef3-4642-8380-0c58aac9cfed",
   "metadata": {},
   "outputs": [],
   "source": [
    "def is_consistent(update):\n",
    "    k = len(update)\n",
    "    for i in range(k):\n",
    "        for j in range(i, k):\n",
    "            if (update[j], update[i]) in rules:\n",
    "                return 0\n",
    "    return update[int((k-1)/2)]"
   ]
  },
  {
   "cell_type": "code",
   "execution_count": 6,
   "id": "7201791d-b2e6-442a-aba6-760fca063dad",
   "metadata": {},
   "outputs": [],
   "source": [
    "def swap(update, i, j):\n",
    "    update[i], update[j] = update[j], update[i]"
   ]
  },
  {
   "cell_type": "code",
   "execution_count": 7,
   "id": "a015dc39-6448-4352-80f0-2824dde4b7ed",
   "metadata": {},
   "outputs": [
    {
     "data": {
      "text/plain": [
       "[1, 4, 3, 2]"
      ]
     },
     "execution_count": 7,
     "metadata": {},
     "output_type": "execute_result"
    }
   ],
   "source": [
    "a = [1,2,3,4]\n",
    "swap(a, 1, 3)\n",
    "a"
   ]
  },
  {
   "cell_type": "code",
   "execution_count": 8,
   "id": "4171aabe-5533-43c6-8e06-cb7b9dda7dea",
   "metadata": {},
   "outputs": [],
   "source": [
    "def fix_consistency(update):\n",
    "    k = len(update)\n",
    "    for i in range(k):\n",
    "        for j in range(i, k):\n",
    "            if (update[i], update[j]) in rules:\n",
    "                swap(update, i, j)\n"
   ]
  },
  {
   "cell_type": "code",
   "execution_count": 9,
   "id": "63257005-cc4c-49e6-9745-7f49cac1ebef",
   "metadata": {},
   "outputs": [
    {
     "data": {
      "text/plain": [
       "6311"
      ]
     },
     "execution_count": 9,
     "metadata": {},
     "output_type": "execute_result"
    }
   ],
   "source": [
    "total = 0\n",
    "for update in updates:\n",
    "    if not is_consistent(update):\n",
    "        fix_consistency(update)\n",
    "        k = len(update)\n",
    "        total += update[int((k-1)/2)]\n",
    "total      "
   ]
  },
  {
   "cell_type": "code",
   "execution_count": null,
   "id": "64961015-1455-4e53-86f4-66013355a430",
   "metadata": {},
   "outputs": [],
   "source": []
  }
 ],
 "metadata": {
  "kernelspec": {
   "display_name": "Python 3 (ipykernel)",
   "language": "python",
   "name": "python3"
  },
  "language_info": {
   "codemirror_mode": {
    "name": "ipython",
    "version": 3
   },
   "file_extension": ".py",
   "mimetype": "text/x-python",
   "name": "python",
   "nbconvert_exporter": "python",
   "pygments_lexer": "ipython3",
   "version": "3.11.0"
  }
 },
 "nbformat": 4,
 "nbformat_minor": 5
}
