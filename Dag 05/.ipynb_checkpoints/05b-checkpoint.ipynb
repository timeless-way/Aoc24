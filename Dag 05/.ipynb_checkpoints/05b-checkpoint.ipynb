{
 "cells": [
  {
   "cell_type": "code",
   "execution_count": 1,
   "id": "d4598d5f-8e67-4926-8853-5d35f103debb",
   "metadata": {},
   "outputs": [
    {
     "name": "stdout",
     "output_type": "stream",
     "text": [
      "/home/huub/software_projects/jupyter_projects\n"
     ]
    }
   ],
   "source": [
    "!pwd"
   ]
  },
  {
   "cell_type": "code",
   "execution_count": 2,
   "id": "cd5876f3-c679-4cc3-859e-cae60cb0026e",
   "metadata": {},
   "outputs": [],
   "source": [
    "with open('data/05a.txt', 'r') as f:\n",
    "    data = f.readlines()\n",
    "N = range(len(data))\n",
    "for i in N:\n",
    "    data[i] = data[i][:-1]"
   ]
  },
  {
   "cell_type": "code",
   "execution_count": 3,
   "id": "d3a828ac-6ed8-4401-990d-af57d19a9573",
   "metadata": {},
   "outputs": [],
   "source": [
    "def is_rule(s):\n",
    "    return '|' in s\n",
    "\n",
    "def create_rule(s):\n",
    "    return (int(s[:2]), int(s[3:]))\n",
    "\n",
    "def is_update(s):\n",
    "    return ',' in s\n",
    "\n",
    "def create_update(s):\n",
    "    upd = s.split(',')\n",
    "    return list(map(int, upd))\n"
   ]
  },
  {
   "cell_type": "code",
   "execution_count": 4,
   "id": "a70eb3f1-1e66-4b73-a6d8-4a8c9b27fc03",
   "metadata": {},
   "outputs": [
    {
     "data": {
      "text/plain": [
       "(1176, 210)"
      ]
     },
     "execution_count": 4,
     "metadata": {},
     "output_type": "execute_result"
    }
   ],
   "source": [
    "rules = []\n",
    "updates = []\n",
    "for d in data:\n",
    "    if is_rule(d):\n",
    "        rules.append(create_rule(d))\n",
    "    elif is_update(d):\n",
    "        updates.append(create_update(d))\n",
    "len(rules), len(updates)"
   ]
  },
  {
   "cell_type": "code",
   "execution_count": 5,
   "id": "3bbd510d-fc2d-48ea-9e86-ff50f39f16bb",
   "metadata": {},
   "outputs": [],
   "source": [
    "def leaders(l):\n",
    "    return set([ r[0] for r in rules if r[1] == l ])\n",
    "\n",
    "def followers(l):\n",
    "    return set([ r[1] for r in rules if r[0] == l ])\n"
   ]
  },
  {
   "cell_type": "code",
   "execution_count": 14,
   "id": "bf820bca-6a03-4a10-8af5-e8324c50f7b8",
   "metadata": {},
   "outputs": [
    {
     "name": "stdout",
     "output_type": "stream",
     "text": [
      "[97, 63, 55, 78, 15, 77, 68, 87, 61, 18, 38, 51, 71, 91, 88, 99, 92, 22, 44, 85, 82, 67, 64]\n",
      "0 1 97 63\n",
      "0 2 97 55\n",
      "0 3 97 78\n",
      "0 4 97 15\n",
      "0 5 97 77\n",
      "0 6 97 68\n",
      "0 7 97 87\n",
      "0 8 97 61\n",
      "0 9 97 18\n",
      "0 10 97 38\n",
      "0 11 97 51\n",
      "0 12 97 71\n",
      "0 13 97 91\n",
      "0 14 97 88\n",
      "0 15 97 99\n",
      "0 16 97 92\n",
      "0 17 97 22\n",
      "0 18 97 44\n",
      "0 19 97 85\n",
      "0 20 97 82\n",
      "0 21 97 67\n",
      "0 22 97 64\n",
      "1 2 63 55\n",
      "1 3 63 78\n",
      "1 4 63 15\n",
      "1 5 63 77\n",
      "1 6 63 68\n",
      "1 7 63 87\n",
      "1 8 63 61\n",
      "1 9 63 18\n",
      "1 11 63 51\n",
      "1 13 63 91\n",
      "1 14 63 88\n",
      "1 15 63 99\n",
      "1 16 63 92\n",
      "1 17 63 22\n",
      "1 19 63 85\n",
      "1 20 63 82\n",
      "1 21 63 67\n",
      "1 22 63 64\n",
      "2 14 55 88\n",
      "2 15 55 99\n",
      "2 16 55 92\n",
      "2 17 55 22\n",
      "3 4 78 15\n",
      "3 11 78 51\n",
      "3 14 78 88\n",
      "3 15 78 99\n",
      "3 16 78 92\n",
      "3 17 78 22\n",
      "4 11 15 51\n",
      "4 14 15 88\n",
      "4 15 15 99\n",
      "4 16 15 92\n",
      "4 17 15 22\n",
      "5 11 77 51\n",
      "5 14 77 88\n",
      "5 15 77 99\n",
      "5 16 77 92\n",
      "5 17 77 22\n",
      "6 11 68 51\n",
      "6 14 68 88\n",
      "6 15 68 99\n",
      "6 16 68 92\n",
      "6 17 68 22\n",
      "7 11 87 51\n",
      "7 14 87 88\n",
      "7 15 87 99\n",
      "7 16 87 92\n",
      "7 17 87 22\n",
      "8 9 61 18\n",
      "8 11 61 51\n",
      "8 13 61 91\n",
      "8 14 61 88\n",
      "8 15 61 99\n",
      "8 16 61 92\n",
      "8 17 61 22\n",
      "8 19 61 85\n",
      "8 20 61 82\n",
      "8 21 61 67\n",
      "8 22 61 64\n",
      "9 11 18 51\n",
      "9 14 18 88\n",
      "9 15 18 99\n",
      "9 16 18 92\n",
      "9 17 18 22\n",
      "10 11 38 51\n",
      "10 12 38 71\n",
      "10 13 38 91\n",
      "10 14 38 88\n",
      "10 15 38 99\n",
      "10 16 38 92\n",
      "10 17 38 22\n",
      "10 18 38 44\n",
      "10 19 38 85\n",
      "10 20 38 82\n",
      "10 21 38 67\n",
      "10 22 38 64\n",
      "11 14 51 88\n",
      "11 15 51 99\n",
      "11 16 51 92\n",
      "11 17 51 22\n",
      "12 13 71 91\n",
      "12 14 71 88\n",
      "12 15 71 99\n",
      "12 16 71 92\n",
      "12 17 71 22\n",
      "12 18 71 44\n",
      "12 19 71 85\n",
      "12 20 71 82\n",
      "12 21 71 67\n",
      "12 22 71 64\n",
      "13 14 91 88\n",
      "13 15 91 99\n",
      "13 16 91 92\n",
      "13 17 91 22\n",
      "14 15 88 99\n",
      "14 16 88 92\n",
      "14 17 88 22\n",
      "15 16 99 92\n",
      "15 17 99 22\n",
      "16 17 92 22\n",
      "18 19 44 85\n",
      "18 20 44 82\n",
      "18 21 44 67\n",
      "18 22 44 64\n",
      "20 21 82 67\n",
      "20 22 82 64\n"
     ]
    }
   ],
   "source": [
    "u = updates[100]\n",
    "print(u)\n",
    "for i in range(len(u)):\n",
    "    for j in range(i+1, len(u)):\n",
    "        if (u[j],u[i]) in rules:\n",
    "            print(i,j, u[i], u[j])\n"
   ]
  },
  {
   "cell_type": "code",
   "execution_count": 25,
   "id": "1b5b55b8-4ef3-4642-8380-0c58aac9cfed",
   "metadata": {},
   "outputs": [],
   "source": [
    "def is_consistent(update):\n",
    "    k = len(update)\n",
    "    for i in range(k):\n",
    "        for j in range(i, k):\n",
    "            if (update[j], update[i]) in rules:\n",
    "                return 0\n",
    "    return update[int((k-1)/2)]"
   ]
  },
  {
   "cell_type": "code",
   "execution_count": 28,
   "id": "249f3aea-c665-48b4-87b7-816c7254d6e7",
   "metadata": {},
   "outputs": [
    {
     "data": {
      "text/plain": [
       "4996"
      ]
     },
     "execution_count": 28,
     "metadata": {},
     "output_type": "execute_result"
    }
   ],
   "source": [
    "total = 0\n",
    "for i in range(len(updates)):\n",
    "    if n := is_consistent(updates[i]):\n",
    "        total += n\n",
    "total"
   ]
  },
  {
   "cell_type": "code",
   "execution_count": 17,
   "id": "58f639d3-b370-4d98-9f2a-d6a1309a77a9",
   "metadata": {},
   "outputs": [
    {
     "data": {
      "text/plain": [
       "210"
      ]
     },
     "execution_count": 17,
     "metadata": {},
     "output_type": "execute_result"
    }
   ],
   "source": [
    "len(updates)"
   ]
  },
  {
   "cell_type": "code",
   "execution_count": 21,
   "id": "b83a70ad-5c3b-4d7f-b0db-f09773321c98",
   "metadata": {},
   "outputs": [
    {
     "name": "stdout",
     "output_type": "stream",
     "text": [
      "[29, 35, 37, 13, 48, 33, 23, 25, 56, 96, 89, 17, 81, 21, 83, 24, 52, 22, 92, 99, 88]\n"
     ]
    }
   ],
   "source": [
    "print(updates[209])"
   ]
  },
  {
   "cell_type": "code",
   "execution_count": 22,
   "id": "51bd34df-05d1-4335-bee4-76a6100637bc",
   "metadata": {},
   "outputs": [
    {
     "data": {
      "text/plain": [
       "21"
      ]
     },
     "execution_count": 22,
     "metadata": {},
     "output_type": "execute_result"
    }
   ],
   "source": [
    "len(updates[209])"
   ]
  },
  {
   "cell_type": "code",
   "execution_count": null,
   "id": "7201791d-b2e6-442a-aba6-760fca063dad",
   "metadata": {},
   "outputs": [],
   "source": []
  }
 ],
 "metadata": {
  "kernelspec": {
   "display_name": "Python 3 (ipykernel)",
   "language": "python",
   "name": "python3"
  },
  "language_info": {
   "codemirror_mode": {
    "name": "ipython",
    "version": 3
   },
   "file_extension": ".py",
   "mimetype": "text/x-python",
   "name": "python",
   "nbconvert_exporter": "python",
   "pygments_lexer": "ipython3",
   "version": "3.12.1"
  }
 },
 "nbformat": 4,
 "nbformat_minor": 5
}
