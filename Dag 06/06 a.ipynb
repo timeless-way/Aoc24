{
 "cells": [
  {
   "cell_type": "code",
   "execution_count": 1,
   "id": "d4598d5f-8e67-4926-8853-5d35f103debb",
   "metadata": {},
   "outputs": [
    {
     "name": "stdout",
     "output_type": "stream",
     "text": [
      "/private/var/mobile/Containers/Shared/AppGroup/F82BEA26-21DA-4B80-8660-E4843E122113/File Provider Storage/Repositories/Aoc24/Dag 06\n",
      "\r"
     ]
    }
   ],
   "source": [
    "!pwd"
   ]
  },
  {
   "cell_type": "code",
   "execution_count": 2,
   "id": "cd5876f3-c679-4cc3-859e-cae60cb0026e",
   "metadata": {},
   "outputs": [],
   "source": [
    "with open('data.txt', 'r') as f:\n",
    "    data = f.readlines()\n",
    "N = range(len(data))\n",
    "for i in N:\n",
    "    data[i] = data[i][:-1]\n",
    "    data[i] = list(data[i])"
   ]
  },
  {
   "cell_type": "code",
   "execution_count": 3,
   "id": "f89adc8f-8f57-4db8-b0c9-f3cb854485d9",
   "metadata": {},
   "outputs": [],
   "source": [
    "def count_char(c):\n",
    "    count = 0\n",
    "    for i in N:\n",
    "        for j in N:\n",
    "            if data[i][j] == c:\n",
    "                count += 1\n",
    "    return count"
   ]
  },
  {
   "cell_type": "code",
   "execution_count": 4,
   "id": "64b27058-817e-40ce-a463-67956ec1fd3a",
   "metadata": {},
   "outputs": [
    {
     "data": {
      "text/plain": [
       "1"
      ]
     },
     "execution_count": 4,
     "metadata": {},
     "output_type": "execute_result"
    }
   ],
   "source": [
    "count_char('^')"
   ]
  },
  {
   "cell_type": "code",
   "execution_count": 5,
   "id": "61875598-62fd-4314-94d4-15506045a48b",
   "metadata": {},
   "outputs": [],
   "source": [
    "for i in N:\n",
    "    for j in N:\n",
    "        if data[i][j] == '^':\n",
    "            x, y = i, j\n",
    "location = [x, y]"
   ]
  },
  {
   "cell_type": "code",
   "execution_count": 6,
   "id": "d4c4e24c-2fa3-4894-88a1-c89b778abc4b",
   "metadata": {},
   "outputs": [],
   "source": [
    "up = (-1, 0)\n",
    "right = (0, 1)\n",
    "down = (1, 0)\n",
    "left = (0, -1)\n",
    "direction = up"
   ]
  },
  {
   "cell_type": "code",
   "execution_count": 7,
   "id": "18cc8f29-c106-44d9-a422-894e6d0398d4",
   "metadata": {},
   "outputs": [],
   "source": [
    "def turn():\n",
    "    global direction\n",
    "    if direction == up:\n",
    "        direction = right\n",
    "    elif direction == right:\n",
    "        direction = down\n",
    "    elif direction == down:\n",
    "        direction = left\n",
    "    else:\n",
    "        direction = up\n",
    "\n",
    "def step():\n",
    "    global location\n",
    "    data[location[0]][location[1]] = 'X'\n",
    "    location[0] += direction[0]\n",
    "    location[1] += direction[1]\n",
    "    if location[0] not in N or location[1] not in N:\n",
    "        return False\n",
    "    return True\n",
    "\n",
    "def look():\n",
    "    x = location[0] + direction[0]\n",
    "    y = location[1] + direction[1]\n",
    "    if x not in N or y not in N:\n",
    "        return True\n",
    "    return data[x][y] != '#'"
   ]
  },
  {
   "cell_type": "code",
   "execution_count": 8,
   "id": "9e03a54a-0e76-4a3b-9cfd-337c9e3eabe7",
   "metadata": {},
   "outputs": [],
   "source": [
    "def walk():\n",
    "    inside = True\n",
    "    while inside:\n",
    "        if look():\n",
    "            inside = step()\n",
    "        else:\n",
    "            turn()"
   ]
  },
  {
   "cell_type": "code",
   "execution_count": 9,
   "id": "64fd78d5-df63-4ed7-aa02-d8f99496f6dd",
   "metadata": {},
   "outputs": [],
   "source": [
    "walk()"
   ]
  },
  {
   "cell_type": "code",
   "execution_count": 10,
   "id": "775cb254-3abe-4221-88b7-9ef00b252ae6",
   "metadata": {},
   "outputs": [
    {
     "data": {
      "text/plain": [
       "5153"
      ]
     },
     "execution_count": 10,
     "metadata": {},
     "output_type": "execute_result"
    }
   ],
   "source": [
    "count_char('X')"
   ]
  },
  {
   "cell_type": "code",
   "execution_count": null,
   "id": "648cc8e2-b232-453f-9b95-086c057e5f55",
   "metadata": {},
   "outputs": [],
   "source": []
  }
 ],
 "metadata": {
  "kernelspec": {
   "display_name": "Python 3 (ipykernel)",
   "language": "python",
   "name": "python3"
  },
  "language_info": {
   "codemirror_mode": {
    "name": "ipython",
    "version": 3
   },
   "file_extension": ".py",
   "mimetype": "text/x-python",
   "name": "python",
   "nbconvert_exporter": "python",
   "pygments_lexer": "ipython3",
   "version": "3.11.0"
  }
 },
 "nbformat": 4,
 "nbformat_minor": 5
}
