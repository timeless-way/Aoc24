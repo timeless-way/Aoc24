{
 "cells": [
  {
   "cell_type": "code",
   "execution_count": 1,
   "metadata": {},
   "outputs": [
    {
     "name": "stdout",
     "output_type": "stream",
     "text": [
      "/Users/huub/Documents Local/Software Projects/jupyter-projects/Aoc24/Dag 11\n"
     ]
    }
   ],
   "source": [
    "!pwd"
   ]
  },
  {
   "cell_type": "code",
   "execution_count": 2,
   "metadata": {},
   "outputs": [],
   "source": [
    "from dataclasses import dataclass"
   ]
  },
  {
   "cell_type": "code",
   "execution_count": 3,
   "metadata": {},
   "outputs": [],
   "source": [
    "@dataclass\n",
    "class Cluster:\n",
    "    value: int\n",
    "    multiplicity: int\n",
    "\n",
    "    def __repr__(self):\n",
    "        return f'<{self.value}:{self.multiplicity}>'\n",
    "\n",
    "def create_cluster(val):\n",
    "    return Cluster(value=val, multiplicity=1)"
   ]
  },
  {
   "cell_type": "code",
   "execution_count": 4,
   "metadata": {},
   "outputs": [
    {
     "data": {
      "text/plain": [
       "[<0:1>, <8:1>, <28:1>, <517:1>, <3279:1>, <18864:1>, <998884:1>, <1832781:1>]"
      ]
     },
     "execution_count": 4,
     "metadata": {},
     "output_type": "execute_result"
    }
   ],
   "source": [
    "data = \"3279 998884 1832781 517 8 18864 28 0\"\n",
    "data = map(int, data.split())\n",
    "data = map(create_cluster, data)\n",
    "data = sorted(data, key=lambda cluster: cluster.value)\n",
    "data"
   ]
  },
  {
   "cell_type": "code",
   "execution_count": 5,
   "metadata": {},
   "outputs": [],
   "source": [
    "def even(cluster:Cluster):\n",
    "    return len(str(cluster.value)) % 2 == 0\n",
    "\n",
    "def split(cluster: Cluster):\n",
    "    s = str(cluster.value)\n",
    "    m = cluster.multiplicity\n",
    "    l = int(len(s)/2)\n",
    "    d1 = Cluster(value = int(s[:l]), multiplicity=m)\n",
    "    d2 = Cluster(value = int(s[l:]), multiplicity=m)\n",
    "    return [d1, d2]"
   ]
  },
  {
   "cell_type": "code",
   "execution_count": 6,
   "metadata": {},
   "outputs": [
    {
     "data": {
      "text/plain": [
       "[<10:1>, <0:1>]"
      ]
     },
     "execution_count": 6,
     "metadata": {},
     "output_type": "execute_result"
    }
   ],
   "source": [
    "split(create_cluster(1000))"
   ]
  },
  {
   "cell_type": "code",
   "execution_count": 7,
   "metadata": {},
   "outputs": [],
   "source": [
    "def fuse(clusters):\n",
    "    next_clusters = sorted(clusters, key=lambda cluster: cluster.value)\n",
    "    result = []\n",
    "    while len(next_clusters) > 0:\n",
    "        i = 0\n",
    "        v = next_clusters[0].value\n",
    "        while i < len(next_clusters) and next_clusters[i].value == v:\n",
    "            i += 1\n",
    "        section = next_clusters[:i]\n",
    "        next_clusters = next_clusters[i:]\n",
    "        m = sum([cluster.multiplicity for cluster in section])\n",
    "        result.append(Cluster(multiplicity=m, value=v))\n",
    "    return result\n",
    "    \n",
    "def blink(clusters):\n",
    "    next_clusters = []\n",
    "    for cluster in clusters:\n",
    "        v = cluster.value\n",
    "        m = cluster.multiplicity\n",
    "        if v == 0:\n",
    "            next_clusters.append(Cluster(value=1, multiplicity=m))\n",
    "        elif even(cluster):\n",
    "            next_clusters.extend(split(cluster))\n",
    "        else:\n",
    "            next_clusters.append(Cluster(value=2024*v, multiplicity=m))\n",
    "    return fuse(next_clusters)"
   ]
  },
  {
   "cell_type": "code",
   "execution_count": 8,
   "metadata": {},
   "outputs": [],
   "source": [
    "def total_size(clusters):\n",
    "    return sum([cluster.multiplicity for cluster in clusters])"
   ]
  },
  {
   "cell_type": "code",
   "execution_count": 11,
   "metadata": {},
   "outputs": [
    {
     "data": {
      "text/plain": [
       "(218956, 297)"
      ]
     },
     "execution_count": 11,
     "metadata": {},
     "output_type": "execute_result"
    }
   ],
   "source": [
    "#%%timeit\n",
    "stones = data\n",
    "for i in range(25):\n",
    "    stones = blink(stones)\n",
    "total_size(stones), len(stones)"
   ]
  },
  {
   "cell_type": "code",
   "execution_count": 12,
   "metadata": {},
   "outputs": [
    {
     "data": {
      "text/plain": [
       "[<0:12163>, <1:7568>, <2:12178>, <3:2940>, <4:13209>]"
      ]
     },
     "execution_count": 12,
     "metadata": {},
     "output_type": "execute_result"
    }
   ],
   "source": [
    "stones[:5]"
   ]
  },
  {
   "cell_type": "code",
   "execution_count": 13,
   "metadata": {},
   "outputs": [
    {
     "data": {
      "text/plain": [
       "297"
      ]
     },
     "execution_count": 13,
     "metadata": {},
     "output_type": "execute_result"
    }
   ],
   "source": [
    "len(stones)"
   ]
  },
  {
   "cell_type": "code",
   "execution_count": 14,
   "metadata": {},
   "outputs": [
    {
     "data": {
      "text/plain": [
       "[<3998258176:1>,\n",
       " <4031030784:1>,\n",
       " <4051513664:1>,\n",
       " <263098497024:1>,\n",
       " <302818897920:1>]"
      ]
     },
     "execution_count": 14,
     "metadata": {},
     "output_type": "execute_result"
    }
   ],
   "source": [
    "stones[-5:]"
   ]
  },
  {
   "cell_type": "code",
   "execution_count": null,
   "metadata": {},
   "outputs": [],
   "source": []
  }
 ],
 "metadata": {
  "kernelspec": {
   "display_name": "Python 3 (ipykernel)",
   "language": "python",
   "name": "python3"
  },
  "language_info": {
   "codemirror_mode": {
    "name": "ipython",
    "version": 3
   },
   "file_extension": ".py",
   "mimetype": "text/x-python",
   "name": "python",
   "nbconvert_exporter": "python",
   "pygments_lexer": "ipython3",
   "version": "3.11.5"
  }
 },
 "nbformat": 4,
 "nbformat_minor": 4
}
