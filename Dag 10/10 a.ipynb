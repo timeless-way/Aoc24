{
 "cells": [
  {
   "cell_type": "code",
   "execution_count": 1,
   "id": "e17ba10c-9b41-4d3d-86d2-b43749cda041",
   "metadata": {},
   "outputs": [],
   "source": [
    "from icecream import ic\n",
    "import numpy as np"
   ]
  },
  {
   "cell_type": "code",
   "execution_count": 3,
   "id": "142671c2-992d-414e-ab1a-5c9189c78397",
   "metadata": {},
   "outputs": [
    {
     "data": {
      "text/plain": [
       "(53, 53)"
      ]
     },
     "execution_count": 3,
     "metadata": {},
     "output_type": "execute_result"
    }
   ],
   "source": [
    "with open('data.txt', 'r') as f:\n",
    "    data = f.readlines()\n",
    "# data = \\\n",
    "# [\"89010123\\n\",\n",
    "#  \"78121874\\n\",\n",
    "#  \"87430965\\n\",\n",
    "#  \"96549874\\n\",\n",
    "#  \"45678903\\n\",\n",
    "#  \"32019012\\n\",\n",
    "#  \"01329801\\n\",\n",
    "#  \"10456732\\n\"]\n",
    "N = range(len(data))\n",
    "for i in N:\n",
    "    data[i] = list(map(int, data[i][:-1]))\n",
    "topomap = np.array(data)\n",
    "topomap.shape"
   ]
  },
  {
   "cell_type": "code",
   "execution_count": 4,
   "id": "43d4a7ca-1f8e-41a4-985b-320758c71c8c",
   "metadata": {},
   "outputs": [
    {
     "data": {
      "text/plain": [
       "(275, 227)"
      ]
     },
     "execution_count": 4,
     "metadata": {},
     "output_type": "execute_result"
    }
   ],
   "source": [
    "trailheads = []\n",
    "hilltops = []\n",
    "for i in N:\n",
    "    for j in N:\n",
    "        if topomap[i,j] == 0:\n",
    "            trailheads.append((i,j))\n",
    "        if topomap[i,j] == 9:\n",
    "            hilltops.append((i,j))\n",
    "len(trailheads), len(hilltops)"
   ]
  },
  {
   "cell_type": "code",
   "execution_count": 5,
   "id": "a5400d8f-7fd8-400f-a0e2-cb1aa30c9ebd",
   "metadata": {},
   "outputs": [],
   "source": [
    "north = np.array([0, -1])\n",
    "east  = np.array([1, 0])\n",
    "south = np.array([0, 1])\n",
    "west  = np.array([-1, 0])\n",
    "\n",
    "directions = [north, east, south, west]\n",
    "\n",
    "def is_on_map(location):\n",
    "    return location[0] in N and location[1] in N\n",
    "\n",
    "def neighbours(current_loc):\n",
    "    nb = []\n",
    "    ch = topomap[*current_loc]\n",
    "    for d in directions:\n",
    "        loc = current_loc + d\n",
    "        if is_on_map(loc) and topomap[*loc] == ch + 1:\n",
    "            nb.append(loc)\n",
    "    return nb\n",
    "    "
   ]
  },
  {
   "cell_type": "code",
   "execution_count": 6,
   "id": "370d6fdc-fa63-43a6-8520-a29c4ca3e612",
   "metadata": {},
   "outputs": [
    {
     "data": {
      "text/plain": [
       "[array([0, 1])]"
      ]
     },
     "execution_count": 6,
     "metadata": {},
     "output_type": "execute_result"
    }
   ],
   "source": [
    "neighbours(np.array([0,0]))"
   ]
  },
  {
   "cell_type": "code",
   "execution_count": 7,
   "id": "f8b578d4-563e-4234-ac53-3b57f12509d9",
   "metadata": {},
   "outputs": [],
   "source": [
    "def surrounds(location):\n",
    "    i = location[0] - 2\n",
    "    j = location[1] - 2\n",
    "    return topomap[i:i+5, j:j+5]"
   ]
  },
  {
   "cell_type": "code",
   "execution_count": 8,
   "id": "6d6bf99c-d0c0-4e50-b549-d95a8486504b",
   "metadata": {},
   "outputs": [
    {
     "data": {
      "text/plain": [
       "[array([2, 6]), array([3, 7])]"
      ]
     },
     "execution_count": 8,
     "metadata": {},
     "output_type": "execute_result"
    }
   ],
   "source": [
    "current_location = np.array([2,7])\n",
    "neighbours(current_location)"
   ]
  },
  {
   "cell_type": "code",
   "execution_count": 9,
   "id": "8945c863-505e-4e63-b764-e4e5ea5d071b",
   "metadata": {},
   "outputs": [
    {
     "data": {
      "text/plain": [
       "7"
      ]
     },
     "execution_count": 9,
     "metadata": {},
     "output_type": "execute_result"
    }
   ],
   "source": [
    "topomap[*current_location]"
   ]
  },
  {
   "cell_type": "code",
   "execution_count": 10,
   "id": "70a8e33d-cce0-46e4-adb3-1d5378eb8379",
   "metadata": {},
   "outputs": [],
   "source": [
    "def reset_map():\n",
    "    n,m = topomap.shape\n",
    "    for i in range(n):\n",
    "        for j in range(m):\n",
    "            if topomap[i,j] == 10:\n",
    "                topomap[i,j] = 9       \n",
    "\n",
    "def score(location):\n",
    "    reset_map()\n",
    "    return score_1(location)\n",
    "\n",
    "def score_1(location):\n",
    "    if topomap[*location] == 9:\n",
    "        topomap[*location] = 10\n",
    "        return 1\n",
    "    elif topomap[*location] == 10:\n",
    "        return 0\n",
    "    else:\n",
    "        return sum([score_1(n) for n in neighbours(location)])"
   ]
  },
  {
   "cell_type": "code",
   "execution_count": 12,
   "id": "3f27accc-030e-4fff-bd09-f51c618c09d3",
   "metadata": {},
   "outputs": [
    {
     "data": {
      "text/plain": [
       "644"
      ]
     },
     "execution_count": 12,
     "metadata": {},
     "output_type": "execute_result"
    }
   ],
   "source": [
    "sum([score(h) for h in trailheads])"
   ]
  },
  {
   "cell_type": "code",
   "execution_count": null,
   "id": "037749cb-a949-464d-b9fd-bf2c42a13426",
   "metadata": {},
   "outputs": [],
   "source": []
  }
 ],
 "metadata": {
  "kernelspec": {
   "display_name": "Python 3 (ipykernel)",
   "language": "python",
   "name": "python3"
  },
  "language_info": {
   "codemirror_mode": {
    "name": "ipython",
    "version": 3
   },
   "file_extension": ".py",
   "mimetype": "text/x-python",
   "name": "python",
   "nbconvert_exporter": "python",
   "pygments_lexer": "ipython3",
   "version": "3.11.5"
  }
 },
 "nbformat": 4,
 "nbformat_minor": 5
}
