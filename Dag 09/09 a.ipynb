{
 "cells": [
  {
   "cell_type": "code",
   "execution_count": 1,
   "id": "d4598d5f-8e67-4926-8853-5d35f103debb",
   "metadata": {},
   "outputs": [
    {
     "name": "stdout",
     "output_type": "stream",
     "text": [
      "/home/huub/software_projects/jupyter_projects/Aoc24/Dag 09\n"
     ]
    }
   ],
   "source": [
    "!pwd"
   ]
  },
  {
   "cell_type": "code",
   "execution_count": 2,
   "id": "b6d6529e-2536-4ae5-a257-37d6d1f57537",
   "metadata": {},
   "outputs": [],
   "source": [
    "from icecream import ic\n",
    "import numpy as np\n",
    "ic.disable()"
   ]
  },
  {
   "cell_type": "code",
   "execution_count": 3,
   "id": "cd5876f3-c679-4cc3-859e-cae60cb0026e",
   "metadata": {
    "scrolled": true
   },
   "outputs": [],
   "source": [
    "with open('data.txt', 'r') as f:\n",
    "    data = f.readlines()\n",
    "# data = ['2333133121414131402\\n']\n",
    "diskmap = list(map(int, data[0][:-1]))\n",
    "N = range(len(diskmap))"
   ]
  },
  {
   "cell_type": "code",
   "execution_count": 4,
   "id": "3fbd6d07-3f3c-40ec-8f9e-f39da2e2084f",
   "metadata": {},
   "outputs": [
    {
     "data": {
      "text/plain": [
       "19999"
      ]
     },
     "execution_count": 4,
     "metadata": {},
     "output_type": "execute_result"
    }
   ],
   "source": [
    "len(diskmap)"
   ]
  },
  {
   "cell_type": "code",
   "execution_count": 5,
   "id": "11ebab04-8ba7-4ae6-99f9-7409afcc6076",
   "metadata": {},
   "outputs": [
    {
     "data": {
      "text/plain": [
       "6"
      ]
     },
     "execution_count": 5,
     "metadata": {},
     "output_type": "execute_result"
    }
   ],
   "source": [
    "diskmap[-1]"
   ]
  },
  {
   "cell_type": "code",
   "execution_count": 6,
   "id": "fdb7f359-3938-489b-8f07-2f58d6ae2d0e",
   "metadata": {},
   "outputs": [
    {
     "data": {
      "text/plain": [
       "[3, 7, 4, 0, 8, 2, 2, 0, 1, 5, 7, 8, 1, 7, 2, 8, 5, 3, 1, 0]"
      ]
     },
     "execution_count": 6,
     "metadata": {},
     "output_type": "execute_result"
    }
   ],
   "source": [
    "diskmap[:20]"
   ]
  },
  {
   "cell_type": "code",
   "execution_count": 7,
   "id": "8aa924b2-060f-4bd1-9643-71b09d695e15",
   "metadata": {},
   "outputs": [],
   "source": [
    "def expand_diskmap():\n",
    "    disk = []\n",
    "    filename = 0\n",
    "    for i in N:\n",
    "        if i % 2 == 0:\n",
    "            disk.extend([filename]*diskmap[i])\n",
    "            filename += 1\n",
    "        else:\n",
    "            disk.extend([-1]*diskmap[i])\n",
    "    return disk"
   ]
  },
  {
   "cell_type": "code",
   "execution_count": 8,
   "id": "da6ccb17-2e12-4567-8ff3-9cc88449ebf0",
   "metadata": {},
   "outputs": [],
   "source": [
    "disk = expand_diskmap()"
   ]
  },
  {
   "cell_type": "code",
   "execution_count": 9,
   "id": "a654144a-1c90-4d72-b763-b99a6e26ec1a",
   "metadata": {},
   "outputs": [
    {
     "data": {
      "text/plain": [
       "[0, 0, 0, -1, -1, -1, -1, -1, -1, -1, 1, 1, 1, 1, 2, 2, 2, 2, 2, 2]"
      ]
     },
     "execution_count": 9,
     "metadata": {},
     "output_type": "execute_result"
    }
   ],
   "source": [
    "disk[:20]"
   ]
  },
  {
   "cell_type": "code",
   "execution_count": 10,
   "id": "4116bc6a-0fe0-4818-90a3-d82725a90cf0",
   "metadata": {},
   "outputs": [],
   "source": [
    "def purge():\n",
    "    first_block_pointer = 0\n",
    "    last_block_pointer = len(disk) - 1\n",
    "    while first_block_pointer < last_block_pointer:\n",
    "        while disk[first_block_pointer] >= 0:\n",
    "            first_block_pointer += 1\n",
    "        while disk[last_block_pointer] < 0:\n",
    "            last_block_pointer -= 1\n",
    "        if first_block_pointer < last_block_pointer:\n",
    "            disk[first_block_pointer], disk[last_block_pointer] = disk[last_block_pointer], disk[first_block_pointer]"
   ]
  },
  {
   "cell_type": "code",
   "execution_count": 11,
   "id": "c64defc7-0bc1-487a-95eb-2183aeebb40a",
   "metadata": {},
   "outputs": [],
   "source": [
    "purge()"
   ]
  },
  {
   "cell_type": "code",
   "execution_count": 12,
   "id": "7d847897-dfcb-47af-beb1-8b785c895369",
   "metadata": {},
   "outputs": [
    {
     "data": {
      "text/plain": [
       "[0,\n",
       " 0,\n",
       " 0,\n",
       " 9999,\n",
       " 9999,\n",
       " 9999,\n",
       " 9999,\n",
       " 9999,\n",
       " 9999,\n",
       " 9998,\n",
       " 1,\n",
       " 1,\n",
       " 1,\n",
       " 1,\n",
       " 2,\n",
       " 2,\n",
       " 2,\n",
       " 2,\n",
       " 2,\n",
       " 2]"
      ]
     },
     "execution_count": 12,
     "metadata": {},
     "output_type": "execute_result"
    }
   ],
   "source": [
    "disk[:20]"
   ]
  },
  {
   "cell_type": "code",
   "execution_count": 13,
   "id": "8a0c8ca3-c208-4da3-824e-00bc2aaa0f03",
   "metadata": {},
   "outputs": [],
   "source": [
    "def checksum():\n",
    "    check = 0\n",
    "    for i in range(len(disk)):\n",
    "        if disk[i] < 0:\n",
    "            break\n",
    "        check += i * disk[i]\n",
    "    return check"
   ]
  },
  {
   "cell_type": "code",
   "execution_count": 14,
   "id": "f653f79d-c53f-4627-94e7-779985a44663",
   "metadata": {},
   "outputs": [
    {
     "data": {
      "text/plain": [
       "6299243228569"
      ]
     },
     "execution_count": 14,
     "metadata": {},
     "output_type": "execute_result"
    }
   ],
   "source": [
    "checksum()"
   ]
  },
  {
   "cell_type": "code",
   "execution_count": 15,
   "id": "bdc802b4-b9d8-4378-ba95-8ca9d3da381a",
   "metadata": {},
   "outputs": [
    {
     "data": {
      "text/plain": [
       "[0,\n",
       " 0,\n",
       " 0,\n",
       " 9999,\n",
       " 9999,\n",
       " 9999,\n",
       " 9999,\n",
       " 9999,\n",
       " 9999,\n",
       " 9998,\n",
       " 1,\n",
       " 1,\n",
       " 1,\n",
       " 1,\n",
       " 2,\n",
       " 2,\n",
       " 2,\n",
       " 2,\n",
       " 2,\n",
       " 2]"
      ]
     },
     "execution_count": 15,
     "metadata": {},
     "output_type": "execute_result"
    }
   ],
   "source": [
    "disk[:20]"
   ]
  },
  {
   "cell_type": "code",
   "execution_count": null,
   "id": "7baff6f4-0471-4d50-8d1a-debba5cd928d",
   "metadata": {},
   "outputs": [],
   "source": []
  }
 ],
 "metadata": {
  "kernelspec": {
   "display_name": "Python 3 (ipykernel)",
   "language": "python",
   "name": "python3"
  },
  "language_info": {
   "codemirror_mode": {
    "name": "ipython",
    "version": 3
   },
   "file_extension": ".py",
   "mimetype": "text/x-python",
   "name": "python",
   "nbconvert_exporter": "python",
   "pygments_lexer": "ipython3",
   "version": "3.12.1"
  }
 },
 "nbformat": 4,
 "nbformat_minor": 5
}
