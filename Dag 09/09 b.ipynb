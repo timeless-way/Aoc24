{
 "cells": [
  {
   "cell_type": "code",
   "execution_count": 1,
   "id": "d4598d5f-8e67-4926-8853-5d35f103debb",
   "metadata": {},
   "outputs": [
    {
     "name": "stdout",
     "output_type": "stream",
     "text": [
      "/private/var/mobile/Containers/Shared/AppGroup/F82BEA26-21DA-4B80-8660-E4843E122113/File Provider Storage/Repositories/Aoc24/Dag 09\n",
      "\r"
     ]
    }
   ],
   "source": [
    "!pwd"
   ]
  },
  {
   "cell_type": "code",
   "execution_count": 2,
   "id": "b6d6529e-2536-4ae5-a257-37d6d1f57537",
   "metadata": {},
   "outputs": [],
   "source": [
    "from icecream import ic\n",
    "import numpy as np\n",
    "ic.disable()"
   ]
  },
  {
   "cell_type": "code",
   "execution_count": 3,
   "id": "cd5876f3-c679-4cc3-859e-cae60cb0026e",
   "metadata": {
    "scrolled": true
   },
   "outputs": [],
   "source": [
    "with open('data.txt', 'r') as f:\n",
    "    data = f.readlines()\n",
    "# data = ['2333133121414131402\\n']\n",
    "diskmap = list(map(int, data[0][:-1]))\n",
    "N = range(len(diskmap))"
   ]
  },
  {
   "cell_type": "code",
   "execution_count": 4,
   "id": "3fbd6d07-3f3c-40ec-8f9e-f39da2e2084f",
   "metadata": {},
   "outputs": [
    {
     "data": {
      "text/plain": [
       "19999"
      ]
     },
     "execution_count": 4,
     "metadata": {},
     "output_type": "execute_result"
    }
   ],
   "source": [
    "len(diskmap)"
   ]
  },
  {
   "cell_type": "code",
   "execution_count": 5,
   "id": "11ebab04-8ba7-4ae6-99f9-7409afcc6076",
   "metadata": {},
   "outputs": [
    {
     "data": {
      "text/plain": [
       "6"
      ]
     },
     "execution_count": 5,
     "metadata": {},
     "output_type": "execute_result"
    }
   ],
   "source": [
    "diskmap[-1]"
   ]
  },
  {
   "cell_type": "code",
   "execution_count": 6,
   "id": "fdb7f359-3938-489b-8f07-2f58d6ae2d0e",
   "metadata": {},
   "outputs": [
    {
     "data": {
      "text/plain": [
       "[3, 7, 4, 0, 8, 2, 2, 0, 1, 5, 7, 8, 1, 7, 2, 8, 5, 3, 1, 0]"
      ]
     },
     "execution_count": 6,
     "metadata": {},
     "output_type": "execute_result"
    }
   ],
   "source": [
    "diskmap[:20]"
   ]
  },
  {
   "cell_type": "code",
   "execution_count": 7,
   "id": "8aa924b2-060f-4bd1-9643-71b09d695e15",
   "metadata": {},
   "outputs": [],
   "source": [
    "def expand_diskmap():\n",
    "    disk = []\n",
    "    filename = 0\n",
    "    for i in N:\n",
    "        if i % 2 == 0:\n",
    "            disk.extend([filename]*diskmap[i])\n",
    "            filename += 1\n",
    "        else:\n",
    "            disk.extend([-1]*diskmap[i])\n",
    "    return disk"
   ]
  },
  {
   "cell_type": "code",
   "execution_count": 8,
   "id": "da6ccb17-2e12-4567-8ff3-9cc88449ebf0",
   "metadata": {},
   "outputs": [],
   "source": [
    "disk = expand_diskmap()"
   ]
  },
  {
   "cell_type": "code",
   "execution_count": 9,
   "id": "8a0c8ca3-c208-4da3-824e-00bc2aaa0f03",
   "metadata": {},
   "outputs": [],
   "source": [
    "def checksum():\n",
    "    check = 0\n",
    "    for i in range(len(disk)):\n",
    "        if disk[i] >= 0:\n",
    "            check += i * disk[i]\n",
    "    return check"
   ]
  },
  {
   "cell_type": "code",
   "execution_count": 10,
   "id": "7baff6f4-0471-4d50-8d1a-debba5cd928d",
   "metadata": {},
   "outputs": [],
   "source": [
    "def getfilesize(start, name):\n",
    "    size = 0\n",
    "    i = start\n",
    "    while i < len(disk) and disk[i] == name:\n",
    "        size += 1\n",
    "        i += 1\n",
    "    return size\n",
    "    \n",
    "def mkdir():\n",
    "    dir = []\n",
    "    p = 0\n",
    "    while p < len(disk):\n",
    "        name = disk[p]\n",
    "        size = getfilesize(p, name)\n",
    "        dir.append((p, size, name))\n",
    "        p += size\n",
    "    return dir\n",
    "\n",
    "def get_location(p, s, n):\n",
    "    return p\n",
    "\n",
    "def get_size(p, s, n):\n",
    "    return s\n",
    "\n",
    "def get_name(p, s, n):\n",
    "    return n\n",
    "\n",
    "def find_free_space(dir, n):\n",
    "    for k in range(len(dir)):\n",
    "        entry = dir[k]\n",
    "        if get_name(*entry) == -1 and get_size(*entry) >= n:\n",
    "            return k\n",
    "    return -1"
   ]
  },
  {
   "cell_type": "code",
   "execution_count": 11,
   "id": "84978b85-2038-4de7-83fd-4724aadd51ff",
   "metadata": {},
   "outputs": [
    {
     "data": {
      "text/plain": [
       "94613"
      ]
     },
     "execution_count": 11,
     "metadata": {},
     "output_type": "execute_result"
    }
   ],
   "source": [
    "len(disk)"
   ]
  },
  {
   "cell_type": "code",
   "execution_count": 17,
   "id": "fb606727-5e33-41e3-a7d4-66694267adce",
   "metadata": {},
   "outputs": [
    {
     "name": "stdout",
     "output_type": "stream",
     "text": [
      "8.9 ms ± 19.5 µs per loop (mean ± std. dev. of 7 runs, 100 loops each)\n"
     ]
    }
   ],
   "source": [
    "%%timeit\n",
    "d = mkdir()"
   ]
  },
  {
   "cell_type": "code",
   "execution_count": 13,
   "id": "320978dc-aafb-4bc8-970d-86b5fff471f8",
   "metadata": {},
   "outputs": [
    {
     "data": {
      "text/plain": [
       "1"
      ]
     },
     "execution_count": 13,
     "metadata": {},
     "output_type": "execute_result"
    }
   ],
   "source": [
    "find_free_space(d, 3)"
   ]
  },
  {
   "cell_type": "code",
   "execution_count": 14,
   "id": "e15a370b-b4dc-4203-b884-62cd46de5e50",
   "metadata": {},
   "outputs": [
    {
     "data": {
      "text/plain": [
       "(3, 7, -1)"
      ]
     },
     "execution_count": 14,
     "metadata": {},
     "output_type": "execute_result"
    }
   ],
   "source": [
    "d[1]"
   ]
  },
  {
   "cell_type": "code",
   "execution_count": 15,
   "id": "67c36d67-9909-4b5f-a79e-edae1e4a55b6",
   "metadata": {},
   "outputs": [
    {
     "data": {
      "text/plain": [
       "[0, 0, 0, -1, -1, -1, -1, -1, -1, -1, 1, 1, 1, 1]"
      ]
     },
     "execution_count": 15,
     "metadata": {},
     "output_type": "execute_result"
    }
   ],
   "source": [
    "disk[:14]"
   ]
  },
  {
   "cell_type": "code",
   "execution_count": 16,
   "id": "e695da24-6d16-4c57-bf3d-0cc2d75aa9e1",
   "metadata": {},
   "outputs": [
    {
     "data": {
      "text/plain": [
       "[(0, 3, 0), (3, 7, -1), (10, 4, 1), (14, 8, 2), (22, 2, -1)]"
      ]
     },
     "execution_count": 16,
     "metadata": {},
     "output_type": "execute_result"
    }
   ],
   "source": [
    "d[:5]"
   ]
  },
  {
   "cell_type": "code",
   "execution_count": null,
   "id": "06a35336-d996-4b03-af7f-075fc9a45c20",
   "metadata": {},
   "outputs": [],
   "source": []
  }
 ],
 "metadata": {
  "kernelspec": {
   "display_name": "Python 3 (ipykernel)",
   "language": "python",
   "name": "python3"
  },
  "language_info": {
   "codemirror_mode": {
    "name": "ipython",
    "version": 3
   },
   "file_extension": ".py",
   "mimetype": "text/x-python",
   "name": "python",
   "nbconvert_exporter": "python",
   "pygments_lexer": "ipython3",
   "version": "3.11.0"
  }
 },
 "nbformat": 4,
 "nbformat_minor": 5
}
