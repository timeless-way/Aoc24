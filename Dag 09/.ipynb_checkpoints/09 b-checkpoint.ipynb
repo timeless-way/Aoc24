{
 "cells": [
  {
   "cell_type": "code",
   "execution_count": 1,
   "id": "d4598d5f-8e67-4926-8853-5d35f103debb",
   "metadata": {},
   "outputs": [
    {
     "name": "stdout",
     "output_type": "stream",
     "text": [
      "/private/var/mobile/Containers/Shared/AppGroup/F82BEA26-21DA-4B80-8660-E4843E122113/File Provider Storage/Repositories/Aoc24/Dag 09\n",
      "\r"
     ]
    }
   ],
   "source": [
    "!pwd"
   ]
  },
  {
   "cell_type": "code",
   "execution_count": 4,
   "id": "b6d6529e-2536-4ae5-a257-37d6d1f57537",
   "metadata": {},
   "outputs": [],
   "source": [
    "from icecream import ic\n",
    "import numpy as np\n",
    "ic.disable()"
   ]
  },
  {
   "cell_type": "code",
   "execution_count": 5,
   "id": "cd5876f3-c679-4cc3-859e-cae60cb0026e",
   "metadata": {
    "scrolled": true
   },
   "outputs": [],
   "source": [
    "with open('data.txt', 'r') as f:\n",
    "    data = f.readlines()\n",
    "# data = ['2333133121414131402\\n']\n",
    "diskmap = list(map(int, data[0][:-1]))\n",
    "N = range(len(diskmap))"
   ]
  },
  {
   "cell_type": "code",
   "execution_count": 6,
   "id": "3fbd6d07-3f3c-40ec-8f9e-f39da2e2084f",
   "metadata": {},
   "outputs": [
    {
     "data": {
      "text/plain": [
       "19999"
      ]
     },
     "execution_count": 6,
     "metadata": {},
     "output_type": "execute_result"
    }
   ],
   "source": [
    "len(diskmap)"
   ]
  },
  {
   "cell_type": "code",
   "execution_count": 7,
   "id": "11ebab04-8ba7-4ae6-99f9-7409afcc6076",
   "metadata": {},
   "outputs": [
    {
     "data": {
      "text/plain": [
       "6"
      ]
     },
     "execution_count": 7,
     "metadata": {},
     "output_type": "execute_result"
    }
   ],
   "source": [
    "diskmap[-1]"
   ]
  },
  {
   "cell_type": "code",
   "execution_count": 8,
   "id": "fdb7f359-3938-489b-8f07-2f58d6ae2d0e",
   "metadata": {},
   "outputs": [
    {
     "data": {
      "text/plain": [
       "[3, 7, 4, 0, 8, 2, 2, 0, 1, 5, 7, 8, 1, 7, 2, 8, 5, 3, 1, 0]"
      ]
     },
     "execution_count": 8,
     "metadata": {},
     "output_type": "execute_result"
    }
   ],
   "source": [
    "diskmap[:20]"
   ]
  },
  {
   "cell_type": "code",
   "execution_count": 9,
   "id": "8aa924b2-060f-4bd1-9643-71b09d695e15",
   "metadata": {},
   "outputs": [],
   "source": [
    "def expand_diskmap():\n",
    "    disk = []\n",
    "    filename = 0\n",
    "    for i in N:\n",
    "        if i % 2 == 0:\n",
    "            disk.extend([filename]*diskmap[i])\n",
    "            filename += 1\n",
    "        else:\n",
    "            disk.extend([-1]*diskmap[i])\n",
    "    return disk"
   ]
  },
  {
   "cell_type": "code",
   "execution_count": 10,
   "id": "da6ccb17-2e12-4567-8ff3-9cc88449ebf0",
   "metadata": {},
   "outputs": [],
   "source": [
    "disk = expand_diskmap()"
   ]
  },
  {
   "cell_type": "code",
   "execution_count": 11,
   "id": "8a0c8ca3-c208-4da3-824e-00bc2aaa0f03",
   "metadata": {},
   "outputs": [],
   "source": [
    "def checksum():\n",
    "    check = 0\n",
    "    for i in range(len(disk)):\n",
    "        if disk[i] >= 0:\n",
    "            check += i * disk[i]\n",
    "    return check"
   ]
  },
  {
   "cell_type": "code",
   "execution_count": 21,
   "id": "7baff6f4-0471-4d50-8d1a-debba5cd928d",
   "metadata": {},
   "outputs": [],
   "source": [
    "def getfilesize(start, name):\n",
    "    size = 0\n",
    "    i = start\n",
    "    while i < len(disk) and disk[i] == name:\n",
    "        size += 1\n",
    "        i += 1\n",
    "    return size\n",
    "    \n",
    "def mkdir():\n",
    "    dir = []\n",
    "    p = 0\n",
    "    while p < len(disk):\n",
    "        name = disk[p]\n",
    "        size = getfilesize(p, name)\n",
    "        dir.append((p, size, name))\n",
    "        p += size\n",
    "    return dir"
   ]
  },
  {
   "cell_type": "code",
   "execution_count": 22,
   "id": "84978b85-2038-4de7-83fd-4724aadd51ff",
   "metadata": {},
   "outputs": [
    {
     "data": {
      "text/plain": [
       "94613"
      ]
     },
     "execution_count": 22,
     "metadata": {},
     "output_type": "execute_result"
    }
   ],
   "source": [
    "len(disk)"
   ]
  },
  {
   "cell_type": "code",
   "execution_count": 23,
   "id": "d958076d-f11f-4104-90b5-7069ebd3fd54",
   "metadata": {},
   "outputs": [
    {
     "data": {
      "text/plain": [
       "15612726812316"
      ]
     },
     "execution_count": 23,
     "metadata": {},
     "output_type": "execute_result"
    }
   ],
   "source": [
    "checksum()"
   ]
  },
  {
   "cell_type": "code",
   "execution_count": 24,
   "id": "fb606727-5e33-41e3-a7d4-66694267adce",
   "metadata": {},
   "outputs": [],
   "source": [
    "dir = mkdir()"
   ]
  },
  {
   "cell_type": "code",
   "execution_count": 25,
   "id": "d2add2f2-10bf-421e-912a-d4351fbcbb78",
   "metadata": {},
   "outputs": [
    {
     "data": {
      "text/plain": [
       "18973"
      ]
     },
     "execution_count": 25,
     "metadata": {},
     "output_type": "execute_result"
    }
   ],
   "source": [
    "len(dir)"
   ]
  },
  {
   "cell_type": "code",
   "execution_count": 26,
   "id": "98737673-b62a-412c-9919-d7bd2cd1a532",
   "metadata": {},
   "outputs": [
    {
     "data": {
      "text/plain": [
       "[(0, 3, 0), (3, 7, -1), (10, 4, 1), (14, 8, 2), (22, 2, -1)]"
      ]
     },
     "execution_count": 26,
     "metadata": {},
     "output_type": "execute_result"
    }
   ],
   "source": [
    "dir[:5]"
   ]
  },
  {
   "cell_type": "code",
   "execution_count": 27,
   "id": "59e61931-4b6a-4d03-8dee-75998f713bb9",
   "metadata": {},
   "outputs": [
    {
     "data": {
      "text/plain": [
       "[0, 0, 0, -1, -1, -1, -1, -1, -1, -1, 1, 1, 1, 1, 2, 2, 2, 2, 2, 2]"
      ]
     },
     "execution_count": 27,
     "metadata": {},
     "output_type": "execute_result"
    }
   ],
   "source": [
    "disk[:20]"
   ]
  },
  {
   "cell_type": "code",
   "execution_count": null,
   "id": "320978dc-aafb-4bc8-970d-86b5fff471f8",
   "metadata": {},
   "outputs": [],
   "source": []
  }
 ],
 "metadata": {
  "kernelspec": {
   "display_name": "Python 3 (ipykernel)",
   "language": "python",
   "name": "python3"
  },
  "language_info": {
   "codemirror_mode": {
    "name": "ipython",
    "version": 3
   },
   "file_extension": ".py",
   "mimetype": "text/x-python",
   "name": "python",
   "nbconvert_exporter": "python",
   "pygments_lexer": "ipython3",
   "version": "3.11.0"
  }
 },
 "nbformat": 4,
 "nbformat_minor": 5
}
