{
 "cells": [
  {
   "cell_type": "code",
   "execution_count": 1,
   "metadata": {},
   "outputs": [
    {
     "name": "stdout",
     "output_type": "stream",
     "text": [
      "/private/var/mobile/Containers/Shared/AppGroup/F82BEA26-21DA-4B80-8660-E4843E122113/File Provider Storage/Repositories/Aoc24\n",
      "\r"
     ]
    }
   ],
   "source": [
    "!pwd"
   ]
  },
  {
   "cell_type": "code",
   "execution_count": 2,
   "metadata": {},
   "outputs": [],
   "source": [
    "import re"
   ]
  },
  {
   "cell_type": "code",
   "execution_count": 3,
   "metadata": {},
   "outputs": [],
   "source": [
    "with open(\"Data/03a.txt\", \"r\") as input:\n",
    "    data = input.readlines()"
   ]
  },
  {
   "cell_type": "code",
   "execution_count": 4,
   "metadata": {},
   "outputs": [],
   "source": [
    "mulex = \"mul\\(\\d{1,3},\\d{1,3}\\)\""
   ]
  },
  {
   "cell_type": "code",
   "execution_count": 5,
   "metadata": {},
   "outputs": [],
   "source": [
    "def evaluate(s):\n",
    "    args = list(map(int, re.findall(\"\\d+\", s)))\n",
    "    return args[0] * args[1]"
   ]
  },
  {
   "cell_type": "code",
   "execution_count": 14,
   "metadata": {},
   "outputs": [
    {
     "name": "stdout",
     "output_type": "stream",
     "text": [
      "116 31818595 31818595\n",
      "116 30438691 62257286\n",
      "116 26841409 89098695\n",
      "116 25106746 114205441\n",
      "116 31280667 145486108\n",
      "112 30129655 175615763\n",
      "116 31818595 207434358\n",
      "116 30438691 237873049\n",
      "116 26841409 264714458\n",
      "116 25106746 289821204\n",
      "116 31280667 321101871\n",
      "112 30129655 351231526\n",
      "116 31818595 383050121\n",
      "116 30438691 413488812\n",
      "116 26841409 440330221\n",
      "116 25106746 465436967\n",
      "116 31280667 496717634\n",
      "112 30129655 526847289\n"
     ]
    },
    {
     "data": {
      "text/plain": [
       "(526847289, 18)"
      ]
     },
     "execution_count": 14,
     "metadata": {},
     "output_type": "execute_result"
    }
   ],
   "source": [
    "res = 0\n",
    "lc = 0\n",
    "for line in data:\n",
    "    lc += 1\n",
    "    mulops = re.findall(mulex, line)\n",
    "    s = sum(list(map(evaluate, mulops)))\n",
    "    res += s\n",
    "    print(len(mulops), s, res)\n",
    "res, lc"
   ]
  },
  {
   "cell_type": "code",
   "execution_count": 7,
   "metadata": {},
   "outputs": [
    {
     "data": {
      "text/plain": [
       "'mul(73,623)'"
      ]
     },
     "execution_count": 7,
     "metadata": {},
     "output_type": "execute_result"
    }
   ],
   "source": [
    "x = re.findall(mulex, data[0])\n",
    "x[0]"
   ]
  },
  {
   "cell_type": "code",
   "execution_count": 8,
   "metadata": {},
   "outputs": [
    {
     "data": {
      "text/plain": [
       "45479"
      ]
     },
     "execution_count": 8,
     "metadata": {},
     "output_type": "execute_result"
    }
   ],
   "source": [
    "evaluate(x[0])"
   ]
  },
  {
   "cell_type": "code",
   "execution_count": 9,
   "metadata": {},
   "outputs": [
    {
     "data": {
      "text/plain": [
       "45479"
      ]
     },
     "execution_count": 9,
     "metadata": {},
     "output_type": "execute_result"
    }
   ],
   "source": [
    "73*623"
   ]
  },
  {
   "cell_type": "code",
   "execution_count": 10,
   "metadata": {},
   "outputs": [
    {
     "data": {
      "text/plain": [
       "[45479,\n",
       " 363194,\n",
       " 140382,\n",
       " 245690,\n",
       " 332710,\n",
       " 525,\n",
       " 2440,\n",
       " 273844,\n",
       " 332484,\n",
       " 657286,\n",
       " 59086,\n",
       " 189010,\n",
       " 5475,\n",
       " 569420,\n",
       " 240768,\n",
       " 224598,\n",
       " 629640,\n",
       " 582153,\n",
       " 155472,\n",
       " 291225,\n",
       " 758115,\n",
       " 937530,\n",
       " 386182,\n",
       " 44197,\n",
       " 70400,\n",
       " 1908,\n",
       " 33198,\n",
       " 8850,\n",
       " 268932,\n",
       " 149296,\n",
       " 351906,\n",
       " 296903,\n",
       " 661518,\n",
       " 101972,\n",
       " 96096,\n",
       " 569976,\n",
       " 48384,\n",
       " 680064,\n",
       " 522225,\n",
       " 442532,\n",
       " 74032,\n",
       " 16225,\n",
       " 108135,\n",
       " 307464,\n",
       " 284954,\n",
       " 199804,\n",
       " 188034,\n",
       " 148995,\n",
       " 455534,\n",
       " 505422,\n",
       " 287966,\n",
       " 27306,\n",
       " 118802,\n",
       " 63630,\n",
       " 112312,\n",
       " 802576,\n",
       " 136851,\n",
       " 132810,\n",
       " 334377,\n",
       " 13104,\n",
       " 205203,\n",
       " 54360,\n",
       " 437019,\n",
       " 31460,\n",
       " 574314,\n",
       " 423507,\n",
       " 159936,\n",
       " 183195,\n",
       " 21600,\n",
       " 534968,\n",
       " 107800,\n",
       " 294336,\n",
       " 409703,\n",
       " 752554,\n",
       " 20440,\n",
       " 72204,\n",
       " 43248,\n",
       " 216050,\n",
       " 83404,\n",
       " 74272,\n",
       " 339480,\n",
       " 20670,\n",
       " 183830,\n",
       " 5089,\n",
       " 80290,\n",
       " 360789,\n",
       " 386772,\n",
       " 240550,\n",
       " 510134,\n",
       " 209438,\n",
       " 284240,\n",
       " 285234,\n",
       " 347900,\n",
       " 671439,\n",
       " 531176,\n",
       " 44793,\n",
       " 457254,\n",
       " 29070,\n",
       " 151552,\n",
       " 357644,\n",
       " 64791,\n",
       " 123819,\n",
       " 18696,\n",
       " 195048,\n",
       " 608316,\n",
       " 578592,\n",
       " 735750,\n",
       " 598842,\n",
       " 29145,\n",
       " 651105,\n",
       " 50310,\n",
       " 62496,\n",
       " 506012,\n",
       " 531440,\n",
       " 669138,\n",
       " 108780]"
      ]
     },
     "execution_count": 10,
     "metadata": {},
     "output_type": "execute_result"
    }
   ],
   "source": [
    "list(map(evaluate, x))"
   ]
  },
  {
   "cell_type": "code",
   "execution_count": null,
   "metadata": {},
   "outputs": [],
   "source": []
  }
 ],
 "metadata": {
  "kernelspec": {
   "display_name": "Python 3 (ipykernel)",
   "language": "python",
   "name": "python3"
  },
  "language_info": {
   "codemirror_mode": {
    "name": "ipython",
    "version": 3
   },
   "file_extension": ".py",
   "mimetype": "text/x-python",
   "name": "python",
   "nbconvert_exporter": "python",
   "pygments_lexer": "ipython3",
   "version": "3.11.0"
  }
 },
 "nbformat": 4,
 "nbformat_minor": 4
}
