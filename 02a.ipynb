{
 "cells": [
  {
   "cell_type": "code",
   "execution_count": null,
   "metadata": {},
   "outputs": [],
   "source": [
    "!pwd"
   ]
  },
  {
   "cell_type": "code",
   "execution_count": 1,
   "metadata": {},
   "outputs": [],
   "source": [
    "import numpy as np"
   ]
  },
  {
   "cell_type": "code",
   "execution_count": 2,
   "metadata": {},
   "outputs": [
    {
     "data": {
      "text/plain": [
       "['8 10 13 14 12\\n',\n",
       " '40 42 45 47 49 49\\n',\n",
       " '45 48 51 52 55 58 62\\n',\n",
       " '61 63 64 67 69 72 74 81\\n',\n",
       " '95 97 98 99 98 99\\n']"
      ]
     },
     "execution_count": 2,
     "metadata": {},
     "output_type": "execute_result"
    }
   ],
   "source": [
    "with open(\"Data/02a.txt\", \"r\") as input:\n",
    "    data = input.readlines()\n",
    "data[0:5]"
   ]
  },
  {
   "cell_type": "code",
   "execution_count": 3,
   "metadata": {},
   "outputs": [],
   "source": [
    "def get_ints(s):\n",
    "    i = s.split()\n",
    "    return np.array(list(map(int, i)))"
   ]
  },
  {
   "cell_type": "code",
   "execution_count": 4,
   "metadata": {},
   "outputs": [
    {
     "data": {
      "text/plain": [
       "[array([ 8, 10, 13, 14, 12]),\n",
       " array([40, 42, 45, 47, 49, 49]),\n",
       " array([45, 48, 51, 52, 55, 58, 62]),\n",
       " array([61, 63, 64, 67, 69, 72, 74, 81]),\n",
       " array([95, 97, 98, 99, 98, 99])]"
      ]
     },
     "execution_count": 4,
     "metadata": {},
     "output_type": "execute_result"
    }
   ],
   "source": [
    "reports = list(map(get_ints, data))\n",
    "reports[0:5]"
   ]
  },
  {
   "cell_type": "code",
   "execution_count": 7,
   "metadata": {},
   "outputs": [],
   "source": [
    "def is_safe(report):\n",
    "    d = report[1:] - report[:-1]\n",
    "    report_min = min(d)\n",
    "    report_max = max(d)\n",
    "    if report_min * report_max <= 0:\n",
    "        return False\n",
    "    if report_min > 0:\n",
    "        return report_min >= 1 and report_max <= 3\n",
    "    return report_max <= -1 and report_min >= -3\n"
   ]
  },
  {
   "cell_type": "code",
   "execution_count": 8,
   "metadata": {},
   "outputs": [],
   "source": [
    "safe_reports = [ report for report in reports if is_safe(report)]"
   ]
  },
  {
   "cell_type": "code",
   "execution_count": 9,
   "metadata": {},
   "outputs": [
    {
     "data": {
      "text/plain": [
       "598"
      ]
     },
     "execution_count": 9,
     "metadata": {},
     "output_type": "execute_result"
    }
   ],
   "source": [
    "len(safe_reports)"
   ]
  },
  {
   "cell_type": "code",
   "execution_count": null,
   "metadata": {},
   "outputs": [],
   "source": []
  }
 ],
 "metadata": {
  "kernelspec": {
   "display_name": "Python 3 (ipykernel)",
   "language": "python",
   "name": "python3"
  },
  "language_info": {
   "codemirror_mode": {
    "name": "ipython",
    "version": 3
   },
   "file_extension": ".py",
   "mimetype": "text/x-python",
   "name": "python",
   "nbconvert_exporter": "python",
   "pygments_lexer": "ipython3",
   "version": "3.11.0"
  }
 },
 "nbformat": 4,
 "nbformat_minor": 4
}
